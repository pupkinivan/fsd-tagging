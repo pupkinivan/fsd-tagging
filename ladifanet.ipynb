{
  "nbformat": 4,
  "nbformat_minor": 0,
  "metadata": {
    "colab": {
      "name": "ladifanet.ipynb",
      "version": "0.3.2",
      "provenance": [],
      "collapsed_sections": [
        "SadloJMEwgZP",
        "5uj5snTUWEdu",
        "fPkEFyb4WIu5",
        "DlxBOB7tWMhk",
        "IN4XIq8ORxJE",
        "Bj0rubg5wgZg",
        "C7MjIBLtwgZj",
        "XMKEYZxNwgZl",
        "PlJS9522bbms",
        "kcra9xfxaziu",
        "IG69MHV4p6wI",
        "t_gWCEgL6fAO",
        "KO8qhm0rckPH",
        "vJPSFuhzJfly",
        "Etx4wCeyM8Ph",
        "BWGfGj-ZwgZp",
        "izG2wan6ctoM",
        "lIewPPtpwgZp",
        "lUTQc0LNwgZq",
        "PQ-D8B41wgZr",
        "KPmJPcpNwgZt",
        "fA54PAVRwgZt",
        "3y2-F3aBwgZv",
        "rkbInhsTwgZx",
        "UWqIVYMeT5rH",
        "QmviVZtRT_JD",
        "rVhLx6diUiRg",
        "-EgKwfG1VFP6",
        "T28P5H9TYVor",
        "0xYnZeHxYe8j",
        "XyBEJqxnTGjD",
        "nDy70Q5VTX33",
        "beHo0HT0wgZy",
        "wGMF-CS2wgZz",
        "AbTNtrjQwgZ1",
        "xqtQcStfwgZ3",
        "iST3vdX8wgZ5",
        "8Ah6-UYhwgZ5",
        "XF88ov6mwgZ6",
        "pujC1IFWwgZ8",
        "bP2lcCNMW1VM",
        "DCWsNe_UTZ1f",
        "IlksuhxRW74I",
        "sfchtwXBa3GC",
        "s9KlvGJywgZ-"
      ],
      "include_colab_link": true
    },
    "language_info": {
      "name": "python",
      "version": "3.6.4",
      "mimetype": "text/x-python",
      "codemirror_mode": {
        "name": "ipython",
        "version": 3
      },
      "pygments_lexer": "ipython3",
      "nbconvert_exporter": "python",
      "file_extension": ".py"
    },
    "kernelspec": {
      "display_name": "Python 3",
      "language": "python",
      "name": "python3"
    }
  },
  "cells": [
    {
      "cell_type": "markdown",
      "metadata": {
        "id": "view-in-github",
        "colab_type": "text"
      },
      "source": [
        "<a href=\"https://colab.research.google.com/github/pupkinivan/fsd-tagging/blob/master/ladifanet.ipynb\" target=\"_parent\"><img src=\"https://colab.research.google.com/assets/colab-badge.svg\" alt=\"Open In Colab\"/></a>"
      ]
    },
    {
      "cell_type": "markdown",
      "metadata": {
        "id": "SadloJMEwgZP",
        "colab_type": "text"
      },
      "source": [
        "# Importación"
      ]
    },
    {
      "cell_type": "code",
      "metadata": {
        "_uuid": "8f2839f25d086af736a60e9eeb907d3b93b6e0e5",
        "_cell_guid": "b1076dfc-b9ad-4769-8c92-a6c4dae69d19",
        "trusted": true,
        "id": "aQ07a6sTwgZR",
        "colab_type": "code",
        "outputId": "9e98a8e6-8937-4816-c123-68ca93aa8aeb",
        "colab": {
          "base_uri": "https://localhost:8080/",
          "height": 56
        }
      },
      "source": [
        "        # Input data files are available in the \"../input/\" directory.\n",
        "# For example, running this (by clicking run or pressing Shift+Enter) will list the files in the input directory\n",
        "# import os\n",
        "# print(os.listdir(\"../input\"))\n",
        "\n",
        "# Any results you write to the current directory are saved as output.\n",
        "\n",
        "import os\n",
        "\n",
        "# Access Drive from Google Colab\n",
        "from google.colab import drive\n",
        "drive.mount('/content/gdrive')"
      ],
      "execution_count": 0,
      "outputs": [
        {
          "output_type": "stream",
          "text": [
            "Drive already mounted at /content/gdrive; to attempt to forcibly remount, call drive.mount(\"/content/gdrive\", force_remount=True).\n"
          ],
          "name": "stdout"
        }
      ]
    },
    {
      "cell_type": "markdown",
      "metadata": {
        "id": "5uj5snTUWEdu",
        "colab_type": "text"
      },
      "source": [
        "## Preprocessing"
      ]
    },
    {
      "cell_type": "code",
      "metadata": {
        "id": "6wLm4OXZV3WA",
        "colab_type": "code",
        "colab": {}
      },
      "source": [
        "# Preprocessing libraries\n",
        "import librosa.feature as lrft\n",
        "# from librosa import load as lbload\n",
        "from librosa.display import specshow\n",
        "import librosa.display\n",
        "import librosa as lr\n",
        "import numpy as np\n",
        "from scipy.io.wavfile import read\n",
        "from scipy.signal import stft\n",
        "from zipfile import ZipFile\n",
        "import IPython.display\n",
        "\n",
        "import matplotlib.pyplot as plt"
      ],
      "execution_count": 0,
      "outputs": []
    },
    {
      "cell_type": "markdown",
      "metadata": {
        "id": "fPkEFyb4WIu5",
        "colab_type": "text"
      },
      "source": [
        "## Neural networks"
      ]
    },
    {
      "cell_type": "code",
      "metadata": {
        "id": "7t2ad0VaV267",
        "colab_type": "code",
        "colab": {}
      },
      "source": [
        "# Libraries for neural nets\n",
        "from fastai import *\n",
        "from fastai.vision import *\n",
        "import math\n",
        "import torch\n",
        "import torch.nn as nn\n",
        "import torch.nn.functional as F\n",
        "import torch.utils.model_zoo as model_zoo\n",
        "from torch.autograd import Variable"
      ],
      "execution_count": 0,
      "outputs": []
    },
    {
      "cell_type": "markdown",
      "metadata": {
        "id": "DlxBOB7tWMhk",
        "colab_type": "text"
      },
      "source": [
        "## XGBoost & ML"
      ]
    },
    {
      "cell_type": "code",
      "metadata": {
        "id": "vz_RCmsoV2qj",
        "colab_type": "code",
        "colab": {}
      },
      "source": [
        "# XGBoost\n",
        "import xgboost as xgb\n",
        "# from sklearn.model_selection import train_test_split"
      ],
      "execution_count": 0,
      "outputs": []
    },
    {
      "cell_type": "markdown",
      "metadata": {
        "id": "GwdCg2J3wgZX",
        "colab_type": "text"
      },
      "source": [
        "# Preprocessing\n"
      ]
    },
    {
      "cell_type": "markdown",
      "metadata": {
        "id": "IN4XIq8ORxJE",
        "colab_type": "text"
      },
      "source": [
        "**FALTA:**\n",
        "\n",
        "**1. ver cómo deben estructurarse los directorios para fastai**\n",
        "\n",
        "### Flujo del preprocesamiento\n",
        "1.   Transformación:\n",
        "    *   codificación a mp3 para data augmentation?\n",
        "    *   se cargan los archivos de audio, se transforman en paralelo a: melspectrogram y double-tree continuous wavelet transform (DT-CWT). Se guardan los espectrogramas, los que se usarán como base de datos de entrenamiento. Para ello es necesario que los directorios cumplan los requisitos de lectura de la librería fastai.\n",
        "\n",
        "2.   Procesamiento:\n",
        "    *   Eliminación de silencios: se divide los archivos en segmentos no silenciosos y se descartan los silenciosos\n",
        "    *   Padding: se unifican las dimensiones de los archivos\n",
        "\n",
        "3.   MixUp: se usa la técnica mixup durante el entrenamiento tal como está implementada en la librería fastai.\n",
        "\n",
        "#### Opción alternativa: crear ItemBase y ItemList\n",
        "importar audios como ItemList de ItemBase => aplicar transformaciones"
      ]
    },
    {
      "cell_type": "markdown",
      "metadata": {
        "id": "91yImjCDwgZZ",
        "colab_type": "text"
      },
      "source": [
        "## Feature engineering:\n",
        "Para crear más features y/o ayudar a la regularización gracias a domain knowledge, ideas posibles para transformar los audios son:\n",
        "- **Transformaciones típicas**: melspectrograma, coeficientes mel, transformada Q constante, transformada wavelets. La primera ha dado mejores resultados en redes neuronales. MFCC fuerza ortogonalidad lo que podría obstaculizar la generalización.\n",
        "- **Conversión a mp3**: menor espacio en disco, menores tiempos de carga a memoria, posibles beneficios en cuanto a regularización por pérdida de \"definición\", por ponerle un nombre.\n",
        "- **Traslaciones en frecuencia**: data augmentation y regularización por \"deformar\" features.\n",
        "- **Cortar audios** en pequeños segmentos de misma duración: además de ser necesario para el funcionamiento de la red neuronal convolutiva, permite data augmentation sin modificar la distribución de los datos."
      ]
    },
    {
      "cell_type": "code",
      "metadata": {
        "trusted": true,
        "id": "M5mrid6ZwgZa",
        "colab_type": "code",
        "colab": {}
      },
      "source": [
        "\"\"\" Acomodar directorios a carpetas de audios.\n",
        "\"\"\"\n",
        "# os.getcwd()\n",
        "# os.chdir(\"../input\")  # kaggle/input\n",
        "os.listdir()"
      ],
      "execution_count": 0,
      "outputs": []
    },
    {
      "cell_type": "markdown",
      "metadata": {
        "id": "Bj0rubg5wgZg",
        "colab_type": "text"
      },
      "source": [
        "### Importación de datos"
      ]
    },
    {
      "cell_type": "code",
      "metadata": {
        "_cell_guid": "79c7e3d0-c299-4dcb-8224-4455121ee9b0",
        "_uuid": "d629ff2d2480ee46fbb7e2d37f6b5fab8052498a",
        "trusted": true,
        "id": "5j3YMN21wgZh",
        "colab_type": "code",
        "colab": {}
      },
      "source": [
        "sr, audio = read(\"Pulso_15ms.wav\")\n",
        "# audio, sr = lbload(\"Pulso_15ms.wav\", sr=None, dtype=np.float32)\n",
        "# , mono=True, offset=0.0, duration=None, dtype=<class 'numpy.float32'>,\n",
        "# res_type='kaiser_best')\n",
        "\n",
        "# Chequeo porque librosa es una mierda\n",
        "print(audio.shape)\n",
        "print(audio[1000:1010])\n",
        "print(audio[:10])\n",
        "print(type(audio))\n",
        "audio\n",
        "audio.dtype\n",
        "audio = audio.astype(np.int32)\n",
        "audio.shape\n",
        "# audio = np.array(audio / 32767)\n",
        "audio = np.round(audio * 32767)\n",
        "plt.plot(audio)"
      ],
      "execution_count": 0,
      "outputs": []
    },
    {
      "cell_type": "markdown",
      "metadata": {
        "id": "C7MjIBLtwgZj",
        "colab_type": "text"
      },
      "source": [
        "### wav -> mp3\n",
        "La idea es usar la conversión a mp3 para aprovechar su alinealidad y los parámetros que tal formato pondera del oído humano para acercar al modelo a la human level performance."
      ]
    },
    {
      "cell_type": "code",
      "metadata": {
        "trusted": true,
        "id": "wTRv7jPxwgZj",
        "colab_type": "code",
        "colab": {}
      },
      "source": [
        "# os.getcwd()\n",
        "# path_curated = os.getcwd() + \"/train_curated\"\n",
        "# print(path_curated)\n",
        "# os.listdir(path_curated)\n",
        "\n",
        "# file = path_curated + 'a17b177a.wav'\n",
        "# cmd = 'lame --preset insane %s' % file\n",
        "# subprocess.call(cmd, shell=True)\n",
        "# print('a17b177a.wav.mp3' in os.listdir(path_curated))\n",
        "\n",
        "# os.chdir('train_curated')\n",
        "# os.getcwd()\n",
        "file = 'a17b177a.wav'\n",
        "cmd = 'lame --preset insane %s' % file\n",
        "subprocess.call(cmd, shell=True)\n",
        "print('a17b177a.wav.mp3' in os.listdir())\n",
        "\n",
        "# for file in os.listdir(path+\"/train_curated\"):\n",
        "#     # chequear que file es \"str.wav\"\n",
        "#     cmd = 'lame --preset insane %s' % file\n",
        "#     subprocess.call(cmd, shell=True)\n",
        "#     cmd = 'mpg123 -w %s_tfmd.wav %s.wav.mp3' % file[:-4]  # necesita una pausa?\n",
        "#     subprocess.call(cmd, shell=True)"
      ],
      "execution_count": 0,
      "outputs": []
    },
    {
      "cell_type": "markdown",
      "metadata": {
        "id": "XMKEYZxNwgZl",
        "colab_type": "text"
      },
      "source": [
        "### Melspectrogram"
      ]
    },
    {
      "cell_type": "markdown",
      "metadata": {
        "id": "RB8k7QShbshm",
        "colab_type": "text"
      },
      "source": [
        "Audio -> STFT -> melspectrogram\n",
        "\n",
        "**FALTA en la transformación:**\n",
        "- Que se realice sobre TODOS los archivos\n",
        "- Guardar en una estructura de directorios que simplifique la importación por fastai"
      ]
    },
    {
      "cell_type": "markdown",
      "metadata": {
        "id": "PlJS9522bbms",
        "colab_type": "text"
      },
      "source": [
        "#### Implementación de alguien"
      ]
    },
    {
      "cell_type": "code",
      "metadata": {
        "trusted": true,
        "id": "ShJCn50fwgZm",
        "colab_type": "code",
        "colab": {}
      },
      "source": [
        "def read_audio(conf, pathname, trim_long_data):\n",
        "   y, sr = librosa.load(pathname, sr=conf.sampling_rate)\n",
        "   # trim silence\n",
        "   if 0 < len(y): # workaround: 0 length causes error\n",
        "       y, _ = librosa.effects.trim(y) # trim, top_db=default(60)\n",
        "   # make it unified length to conf.samples\n",
        "   if len(y) > conf.samples: # long enough\n",
        "       if trim_long_data:\n",
        "           y = y[0:0+conf.samples]\n",
        "   else: # pad blank\n",
        "       padding = conf.samples - len(y)    # add padding at both ends\n",
        "       offset = padding // 2\n",
        "       y = np.pad(y, (offset, conf.samples - len(y) - offset), 'constant')\n",
        "   return y\n",
        "\n",
        "def audio_to_melspectrogram(conf, audio):\n",
        "   spectrogram = librosa.feature.melspectrogram(audio,\n",
        "                                                sr=conf.sampling_rate,\n",
        "                                                n_mels=conf.n_mels,\n",
        "                                                hop_length=conf.hop_length,\n",
        "                                                n_fft=conf.n_fft,\n",
        "                                                fmin=conf.fmin,\n",
        "                                                fmax=conf.fmax)\n",
        "   spectrogram = librosa.power_to_db(spectrogram)\n",
        "   spectrogram = spectrogram.astype(np.float32)\n",
        "   return spectrogram\n",
        "\n",
        "def show_melspectrogram(conf, mels, title='Log-frequency power spectrogram'):\n",
        "   librosa.display.specshow(mels, x_axis='time', y_axis='mel',\n",
        "                            sr=conf.sampling_rate, hop_length=conf.hop_length,\n",
        "                           fmin=conf.fmin, fmax=conf.fmax)\n",
        "   plt.colorbar(format='%+2.0f dB')\n",
        "   plt.title(title)\n",
        "   plt.show()\n",
        "\n",
        "def read_as_melspectrogram(conf, pathname, trim_long_data, debug_display=False):\n",
        "   x = read_audio(conf, pathname, trim_long_data)\n",
        "   mels = audio_to_melspectrogram(conf, x)\n",
        "   if debug_display:\n",
        "       IPython.display.display(IPython.display.Audio(x, rate=conf.sampling_rate))\n",
        "       show_melspectrogram(conf, mels)\n",
        "   return mels\n",
        "\n",
        "\n",
        "class conf:\n",
        "   # Preprocessing settings\n",
        "   sampling_rate = 44100\n",
        "   duration = 2\n",
        "   hop_length = 347*duration # to make time steps 128\n",
        "   fmin = 20\n",
        "   fmax = sampling_rate // 2\n",
        "   n_mels = 128\n",
        "   n_fft = n_mels * 20\n",
        "   samples = sampling_rate * duration\n",
        "\n",
        "# example\n",
        "# x = read_as_melspectrogram(conf, TRN_CURATED/'0006ae4e.wav', trim_long_data=False, debug_display=True)"
      ],
      "execution_count": 0,
      "outputs": []
    },
    {
      "cell_type": "markdown",
      "metadata": {
        "id": "kcra9xfxaziu",
        "colab_type": "text"
      },
      "source": [
        "#### Otra (sin terminar)"
      ]
    },
    {
      "cell_type": "code",
      "metadata": {
        "trusted": true,
        "id": "4bRJFsbuwgZn",
        "colab_type": "code",
        "colab": {}
      },
      "source": [
        "# SciPy STFT\n",
        "for file in path.ls():\n",
        "    sr, audio = read(file)\n",
        "    f, t, spec = stft(audio, window='hann', nperseg=n_fft, return_onesided=True,\n",
        "                  padded=True, axis=-1)\n",
        "    melspec = lrft.melspectrogram(S=spec, sr=sr, n_fft=n_fft,\n",
        "                              hop_length=hop_length, power=power)\n",
        "    # implementar el guardado de la \"imagen\" del melspec\n",
        "\n",
        "def addZip(directory):\n",
        "   file_paths = get_all_file_paths(directory)\n",
        "   with ZipFile('mijormi.zip', 'w') as zip:\n",
        "       for file in file_paths:\n",
        "           zip.write(file)\n",
        "\n",
        "# f, t, spec = stft(audio, window='hann', nperseg=n_fft, return_onesided=True,\n",
        "#                   padded=True, axis=-1)\n",
        "# # Ploteo\n",
        "# specshow(lr.amplitude_to_db(spec), y_axis='mel', x_axis='time', fmax=20000)\n",
        "# plt.colorbar(format='%+2.0f dB')\n",
        "# plt.title('STFT spectrogram')\n",
        "# plt.tight_layout()\n",
        "\n",
        "# # Librosa melspectrogram\n",
        "# melspec = lrft.melspectrogram(S=spec, sr=sr, n_fft=n_fft,\n",
        "#                               hop_length=hop_length, power=power)\n",
        "# # Ploteo\n",
        "# specshow(lr.amplitude_to_db(melspec, ref=np.max),\n",
        "#          y_axis='mel', x_axis='time', fmax=20000)\n",
        "# plt.colorbar(format='%+2.0f dB')\n",
        "# plt.title('Mel spectrogram')\n",
        "# plt.tight_layout()\n",
        "\n",
        "# Librosa STFT o melspectrogram de una son una mierda\n",
        "# spec = lr.stft(audio, n_fft=n_fft, hop_length=hop_length, center=False)\n",
        "# , dtype=<class 'numpy.complex64'>, pad_mode='reflect')\n",
        "\n",
        "# Esto anda como el orto. No acepta ni int ni float\n",
        "# melspec = lrft.melspectrogram(y=audio, sr=sr, n_fft=n_fft,\n",
        "#                                      hop_length=hop_length, power=power)"
      ],
      "execution_count": 0,
      "outputs": []
    },
    {
      "cell_type": "markdown",
      "metadata": {
        "id": "IG69MHV4p6wI",
        "colab_type": "text"
      },
      "source": [
        "### Eliminación de silencio"
      ]
    },
    {
      "cell_type": "markdown",
      "metadata": {
        "id": "qUWBLkRsqCoE",
        "colab_type": "text"
      },
      "source": [
        "División en segmentos, promediado RMS, eliminación de segmentos silenciosos, conservación de segmentos no silenciosos con segmentos adyacentes.\n",
        "\n",
        "**FALTA:**\n",
        "* **Programar que corra sobre todos los archivos de un set de datos**\n",
        "* **Hacer que funcione correctamente en simultáneo para espectrogramas \"RGB\"**\n",
        "* **Implementar manejo de dimensiones de salida (según cantidad de segmentos sonoros detectados)**\n"
      ]
    },
    {
      "cell_type": "markdown",
      "metadata": {
        "id": "Cwh0vuFdHp8V",
        "colab_type": "text"
      },
      "source": [
        "La función que se debe llamar para cada archivo es del_silence(). Las otras que figuran a continuación son llamadas por ella como parte del proceso.\n",
        "\n",
        "    del_silence(spec: [array] espectrograma, seg_frames: [int] duración de segmentos, thresh=-60 [int/float] umbral de silencio en dB)"
      ]
    },
    {
      "cell_type": "markdown",
      "metadata": {
        "id": "t_gWCEgL6fAO",
        "colab_type": "text"
      },
      "source": [
        "#### NumPy\n"
      ]
    },
    {
      "cell_type": "code",
      "metadata": {
        "id": "abxjnk8uG-1A",
        "colab_type": "code",
        "colab": {}
      },
      "source": [
        "def rms(spec, idx, n_fft, on='amplitude'):\n",
        "    \"\"\" RMS of a single frame of a spectrogram\n",
        "    \"\"\"\n",
        "    if on == 'magnitude':\n",
        "        return 10 * np.log10(np.sum(np.power(10, spec[:, idx] * 0.1)))\n",
        "    elif on == 'amplitude':\n",
        "        return np.sqrt(np.sum(spec[:, idx] ** 2) / n_fft)\n",
        "    else:\n",
        "        raise ValueError(\"Expected \\\"amplitude/magnitude\\\", got \", on, \".\")\n",
        "\n",
        "def del_silence(spec, n_fft, on='amplitude', thresh=1.e-6):\n",
        "    \"\"\" Delete silent segments in spectrograms.\n",
        "    \n",
        "    Arguments:\n",
        "    spec - array of shape (n_mel or n_fft, n_frames, 3). El espectrograma\n",
        "        de amplitud debe ser el canal 0, es a partir del que se hace el\n",
        "        filtrado de silencios.\n",
        "    n_fft - int. Number of frequency bins.\n",
        "    \n",
        "    Returns:\n",
        "    non_silent_segments - array of shape (n_mel or n_fft, N, 3) where N\n",
        "        is the number of non-silent frames found.\n",
        "    \"\"\"\n",
        "    non_silent_segments = []\n",
        "    split = spec\n",
        "    prevsil = True\n",
        "    t = 0\n",
        "    while True:\n",
        "        RMS = rms(split, t, n_fft, on=on)\n",
        "        if (RMS < thresh) and not prevsil:\n",
        "            # si pasa de sonido a silencio\n",
        "            split = np.split(split, [t+1], axis=1)  # [t+1] por padding\n",
        "            if t % 50 == 0:\n",
        "                print(split[0])\n",
        "            non_silent_segments.append(np.squeeze(split[0]))\n",
        "            t -= split[0].shape[1]  # chequear\n",
        "            # del split[0]\n",
        "            split = split[1]            \n",
        "            prevsil = True\n",
        "\n",
        "        elif (RMS >= thresh) and prevsil:\n",
        "            # si viene de silencio y pasa a sonido\n",
        "            # padding por un frame a la izquierda\n",
        "            split = np.split(split, [t], axis=1)  # [t] por padding\n",
        "            if split[0].shape[1] == 0:\n",
        "                t -= 1\n",
        "            t -= split[0].shape[1] - 1  # -1 por padding, chequear\n",
        "            # del split[0]\n",
        "            split = split[1]\n",
        "            prevsil = False\n",
        "\n",
        "        elif (RMS < thresh) and prevsil:\n",
        "            # si viene de silencio y sigue en silencio\n",
        "            prevsil = True\n",
        "\n",
        "        else:\n",
        "            # si viene de sonido y sigue con sonido\n",
        "            prevsil = False\n",
        "        \n",
        "        t += 1\n",
        "        if t >= split.shape[1]:\n",
        "            if prevsil == False:\n",
        "                non_silent_segments.append(np.squeeze(split))\n",
        "            break\n",
        "    return np.array(non_silent_segments)\n",
        "    "
      ],
      "execution_count": 0,
      "outputs": []
    },
    {
      "cell_type": "code",
      "metadata": {
        "id": "YTTmWoljFJJW",
        "colab_type": "code",
        "outputId": "f5522d0d-d344-4afb-d948-38de4eecfee8",
        "colab": {
          "base_uri": "https://localhost:8080/",
          "height": 622
        }
      },
      "source": [
        "# PRUEBA\n",
        "# os.chdir('gdrive/My Drive/Colab Notebooks/Freesound tagging/train_curated')\n",
        "# os.listdir()\n",
        "\n",
        "audio = read_as_melspectrogram(conf, '0019ef41.wav', trim_long_data=False, debug_display=True)\n",
        "nonsil = del_silence(audio, conf.n_fft, on='magnitude', thresh=-60)\n",
        "print(nonsil.shape)\n",
        "# mini = np.amin(np.amin(nonsil))\n",
        "# nonsil = nonsil - np.min(np.min(nonsil))\n",
        "# specshow(nonsil[0])\n",
        "plt.matshow(nonsil[::-1, :])"
      ],
      "execution_count": 0,
      "outputs": [
        {
          "output_type": "display_data",
          "data": {
            "text/html": [
              "\n",
              "                <audio controls=\"controls\" >\n",
              "                    <source src=\"data:audio/wav;base64,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\" type=\"audio/wav\" />\n",
              "                    Your browser does not support the audio element.\n",
              "                </audio>\n",
              "              "
            ],
            "text/plain": [
              "<IPython.lib.display.Audio object>"
            ]
          },
          "metadata": {
            "tags": []
          }
        },
        {
          "output_type": "display_data",
          "data": {
            "image/png": "[encoded data removed]",
            "text/plain": [
              "<Figure size 432x288 with 2 Axes>"
            ]
          },
          "metadata": {
            "tags": []
          }
        },
        {
          "output_type": "stream",
          "text": [
            "(128, 131)\n"
          ],
          "name": "stdout"
        },
        {
          "output_type": "execute_result",
          "data": {
            "text/plain": [
              "<matplotlib.image.AxesImage at 0x7f2a2b6c1780>"
            ]
          },
          "metadata": {
            "tags": []
          },
          "execution_count": 191
        },
        {
          "output_type": "display_data",
          "data": {
            "image/png": "[encoded data removed]",
            "text/plain": [
              "<Figure size 294.75x288 with 1 Axes>"
            ]
          },
          "metadata": {
            "tags": []
          }
        }
      ]
    },
    {
      "cell_type": "markdown",
      "metadata": {
        "colab_type": "text",
        "id": "KO8qhm0rckPH"
      },
      "source": [
        "#### Recursivas (no funcionan)"
      ]
    },
    {
      "cell_type": "code",
      "metadata": {
        "colab_type": "code",
        "outputId": "bffc0506-7a5a-4fcd-87d8-4ce7f778c39d",
        "id": "2TlPOycBckPA",
        "colab": {
          "base_uri": "https://localhost:8080/",
          "height": 259
        }
      },
      "source": [
        "# IMPLEMENTACION RECURSIVA NO FUNCIONA (del_silence, las otras tal vez sí)\n",
        "\n",
        "np.seterr(divide='ignore', invalid='ignore')\n",
        "\n",
        "def is_silent(segment, thresh=-60):\n",
        "    \"\"\" Self explanatory. Threshold in dB.\n",
        "    \"\"\"\n",
        "#     length = segment.shape[1]\n",
        "    rmsperfreq = np.sqrt(np.sum(np.array(segment) ** 2, axis=1))\n",
        "    rms = 10. * np.log10(np.sum(np.power(10, rmsperfreq * 0.1)))\n",
        "    return True if rms < thresh else False\n",
        "\n",
        "\n",
        "def next_silent(spec, idx, thresh=-60):\n",
        "    \"\"\" Recursive implementation of silent segments detection.\n",
        "    \"\"\"\n",
        "    \n",
        "    if idx + 1 >= spec.shape[1]:\n",
        "        return idx\n",
        "    \n",
        "    temp = spec[:, idx: idx+1]\n",
        "    issil = is_silent(temp, thresh=thresh)\n",
        "    \n",
        "    if not issil:\n",
        "        next_silent_idx = next_silent(spec, idx+1, thresh)\n",
        "        if idx == next_silent_idx:\n",
        "            return idx\n",
        "        else:\n",
        "            return next_silent_idx\n",
        "    else:\n",
        "        return idx\n",
        "\n",
        "\n",
        "def next_nonsilent(spec, idx, thresh=-60):\n",
        "    \"\"\" Recursive implementation of non-silent segments detection.\n",
        "    \"\"\"\n",
        "    if idx + 1 >= spec.shape[1]:\n",
        "        return idx\n",
        "\n",
        "    temp = spec[:, idx: idx+1]\n",
        "    issil = is_silent(temp, thresh=thresh)\n",
        "    \n",
        "    if issil:\n",
        "        next_nonsilent_idx = next_nonsilent(spec, idx+1, thresh)\n",
        "        if idx == next_nonsilent_idx:\n",
        "            return idx\n",
        "        else:\n",
        "            return next_nonsilent_idx\n",
        "    else:\n",
        "        return idx\n",
        "\n",
        "\n",
        "def del_silence(spec, thresh=-60):\n",
        "    \"\"\" Delete frames of duration seg_frames under magnitude thresh and returns\n",
        "    a list of non-silent frames.\n",
        "    \n",
        "    Args:\n",
        "    spec: array. Time should be axis 1, frequencies axis 0.\n",
        "    seg_frames: int. Segment duration in number of spectrogram frames.\n",
        "    thresh: float/int. Magnitude threshold.\n",
        "    \n",
        "    Returns:\n",
        "    non_silent_segments: array of shape\" (n, freqs, seg_frames), where n is the\n",
        "        number of non-silent segments found, and freqs is the frequency\n",
        "        resolution of the input spec.\n",
        "    \"\"\"\n",
        "    nonsilent_segments = []\n",
        "\n",
        "    if is_silent(spec[:, :2], thresh=thresh):\n",
        "        last_sil_idx = 0\n",
        "        while True:\n",
        "            nonsil_idx = next_nonsilent(spec, last_sil_idx + 1, thresh=thresh)\n",
        "            nxt_sil_idx = next_silent(spec, nonsil_idx, thresh=thresh)\n",
        "            if last_sil_idx == nxt_sil_idx:\n",
        "                break\n",
        "            last_sil_idx = nonsil_idx - 1\n",
        "            nonsilent_segments.append([spec[:, last_sil_idx: nxt_sil_idx + 1]])\n",
        "            last_sil_idx = nxt_sil_idx\n",
        "    else:\n",
        "        nonsil_idx = 0\n",
        "        last_sil_idx = 0\n",
        "        while True:\n",
        "            nxt_sil_idx = next_silent(spec, nonsil_idx, thresh=thresh)\n",
        "            if nxt_sil_idx == nonsil_idx:\n",
        "                break\n",
        "            nonsilent_segments.append([spec[:, last_sil_idx: nxt_sil_idx + 1]])\n",
        "            nonsil_idx = next_nonsilent(spec, last_sil_idx + 1, thresh=thresh)\n",
        "            last_sil_idx = nonsil_idx - 1\n",
        "    return nonsilent_segments"
      ],
      "execution_count": 0,
      "outputs": [
        {
          "output_type": "error",
          "ename": "NameError",
          "evalue": "ignored",
          "traceback": [
            "\u001b[0;31m---------------------------------------------------------------------------\u001b[0m",
            "\u001b[0;31mNameError\u001b[0m                                 Traceback (most recent call last)",
            "\u001b[0;32m<ipython-input-1-6e2bd67a285f>\u001b[0m in \u001b[0;36m<module>\u001b[0;34m()\u001b[0m\n\u001b[0;32m----> 1\u001b[0;31m \u001b[0mnp\u001b[0m\u001b[0;34m.\u001b[0m\u001b[0mseterr\u001b[0m\u001b[0;34m(\u001b[0m\u001b[0mdivide\u001b[0m\u001b[0;34m=\u001b[0m\u001b[0;34m'ignore'\u001b[0m\u001b[0;34m,\u001b[0m \u001b[0minvalid\u001b[0m\u001b[0;34m=\u001b[0m\u001b[0;34m'ignore'\u001b[0m\u001b[0;34m)\u001b[0m\u001b[0;34m\u001b[0m\u001b[0;34m\u001b[0m\u001b[0m\n\u001b[0m\u001b[1;32m      2\u001b[0m \u001b[0;34m\u001b[0m\u001b[0m\n\u001b[1;32m      3\u001b[0m \u001b[0;32mdef\u001b[0m \u001b[0mis_silent\u001b[0m\u001b[0;34m(\u001b[0m\u001b[0msegment\u001b[0m\u001b[0;34m,\u001b[0m \u001b[0mthresh\u001b[0m\u001b[0;34m=\u001b[0m\u001b[0;34m-\u001b[0m\u001b[0;36m60\u001b[0m\u001b[0;34m)\u001b[0m\u001b[0;34m:\u001b[0m\u001b[0;34m\u001b[0m\u001b[0;34m\u001b[0m\u001b[0m\n\u001b[1;32m      4\u001b[0m     \"\"\" Self explanatory. Threshold in dB.\n\u001b[1;32m      5\u001b[0m     \"\"\"\n",
            "\u001b[0;31mNameError\u001b[0m: name 'np' is not defined"
          ]
        }
      ]
    },
    {
      "cell_type": "markdown",
      "metadata": {
        "id": "vJPSFuhzJfly",
        "colab_type": "text"
      },
      "source": [
        "#### Proceso de eliminación de silencio"
      ]
    },
    {
      "cell_type": "markdown",
      "metadata": {
        "id": "Og2MOTDeJjWM",
        "colab_type": "text"
      },
      "source": [
        "**Falta completar**\n",
        "\n",
        "Se llama a la función de eliminación de silencios sobre los archivos cargados y transformados."
      ]
    },
    {
      "cell_type": "code",
      "metadata": {
        "id": "3pNC-prWJwpC",
        "colab_type": "code",
        "colab": {}
      },
      "source": [
        "for spec in specs:\n",
        "    nonsilsegs = del_silence(spec, frame_samps, thresh=-60)\n",
        "    # separar nonsilsegs en cada segmento no silencioso"
      ],
      "execution_count": 0,
      "outputs": []
    },
    {
      "cell_type": "markdown",
      "metadata": {
        "id": "Etx4wCeyM8Ph",
        "colab_type": "text"
      },
      "source": [
        "### Padding"
      ]
    },
    {
      "cell_type": "markdown",
      "metadata": {
        "id": "jQm4O87VM-fm",
        "colab_type": "text"
      },
      "source": [
        "Se lleva los segmentos con el silencio ya filtrado a un largo uniforme para todo el dataset. Las dimensiones deben cumplir con los requisitos de los modelos preimplementados por PyTorch y FastAI en tales casos."
      ]
    },
    {
      "cell_type": "code",
      "metadata": {
        "id": "mYQw97o6NKyj",
        "colab_type": "code",
        "colab": {}
      },
      "source": [
        "# implementar para cada archivo\n",
        "# for file in files:\n",
        "\n",
        "# impar = (w_stip - w_file) % 2\n",
        "# para asegurar coincidencia exacta con ancho estipulado\n",
        "\n",
        "# np.pad(array, ((pad_width // 2, pad_width // 2 + impar * 1),  # R\n",
        "#                (pad_width // 2, pad_width // 2 + impar * 1),  # G\n",
        "#                (pad_width // 2, pad_width // 2 + impar * 1)),  # B\n",
        "#                mode='constant')"
      ],
      "execution_count": 0,
      "outputs": []
    },
    {
      "cell_type": "markdown",
      "metadata": {
        "id": "BWGfGj-ZwgZp",
        "colab_type": "text"
      },
      "source": [
        "# Modelos"
      ]
    },
    {
      "cell_type": "markdown",
      "metadata": {
        "id": "Rx8aLbu9SEwV",
        "colab_type": "text"
      },
      "source": [
        "Se pretende usar distintas transformaciones de los audios a espectrograma para entrenar varias arquitecturas de redes neuronales en paralelo. El resultado de las redes neuronales confluye en un algoritmo de boosting (XGBoost?) que aprende de los éxitos y fracasos de las redes para continuar minimizando el error."
      ]
    },
    {
      "cell_type": "markdown",
      "metadata": {
        "id": "izG2wan6ctoM",
        "colab_type": "text"
      },
      "source": [
        "## CNNs"
      ]
    },
    {
      "cell_type": "markdown",
      "metadata": {
        "id": "NNnvG-pOcxVt",
        "colab_type": "text"
      },
      "source": [
        "Se usarían, por ahora, MobileNet v2, NASNet Mobile, SqueezeNet, ShuffleNet v2 y WideResNet."
      ]
    },
    {
      "cell_type": "markdown",
      "metadata": {
        "id": "lIewPPtpwgZp",
        "colab_type": "text"
      },
      "source": [
        "### MobileNet v2\n",
        "Based on Tony Lins' implementation:\n",
        "https://github.com/tonylins/pytorch-mobilenet-v2\n",
        "\n",
        "**Modificar las dimensiones de acuerdo a las de preprocesamiento de los datos.**\n"
      ]
    },
    {
      "cell_type": "markdown",
      "metadata": {
        "id": "lUTQc0LNwgZq",
        "colab_type": "text"
      },
      "source": [
        "#### Blocks"
      ]
    },
    {
      "cell_type": "code",
      "metadata": {
        "trusted": true,
        "id": "kIE_dkBewgZq",
        "colab_type": "code",
        "colab": {}
      },
      "source": [
        "def conv_bn(inp, oup, stride):\n",
        "    return nn.Sequential(nn.Conv2d(inp, oup, 3, stride, 1, bias=False),\n",
        "                         nn.BatchNorm2d(oup),\n",
        "                         nn.ReLU6(inplace=True))\n",
        "\n",
        "def conv_1x1_bn(inp, oup):\n",
        "    return nn.Sequential(nn.Conv2d(inp, oup, 1, 1, 0, bias=False),\n",
        "                         nn.BatchNorm2d(oup),\n",
        "                         nn.ReLU6(inplace=True))\n",
        "\n",
        "\n",
        "class InvertedResidual(nn.Module):\n",
        "    def __init__(self, inp, oup, stride, expand_ratio):\n",
        "        super(InvertedResidual, self).__init__()\n",
        "        self.stride = stride\n",
        "        assert stride in [1, 2]\n",
        "\n",
        "        hidden_dim = round(inp * expand_ratio)\n",
        "        self.use_res_connect = self.stride == 1 and inp == oup\n",
        "\n",
        "        if expand_ratio == 1:\n",
        "            self.conv = nn.Sequential(  # dw\n",
        "                                      nn.Conv2d(hidden_dim, hidden_dim, 3,\n",
        "                                                stride, 1, groups=hidden_dim,\n",
        "                                                bias=False),\n",
        "                                      nn.BatchNorm2d(hidden_dim),\n",
        "                                      nn.ReLU6(inplace=True),\n",
        "                                      # pw-linear\n",
        "                                      nn.Conv2d(hidden_dim, oup, 1,\n",
        "                                                1, 0, bias=False),\n",
        "                                      nn.BatchNorm2d(oup))\n",
        "        else:\n",
        "            self.conv = nn.Sequential(  # pw\n",
        "                                      nn.Conv2d(inp, hidden_dim, 1, 1, 0,\n",
        "                                                bias=False),\n",
        "                                      nn.BatchNorm2d(hidden_dim),\n",
        "                                      nn.ReLU6(inplace=True),\n",
        "                                      # dw\n",
        "                                      nn.Conv2d(hidden_dim, hidden_dim, 3,\n",
        "                                                stride, 1, bias=False\n",
        "                                                groups=hidden_dim),\n",
        "                                      nn.BatchNorm2d(hidden_dim),\n",
        "                                      nn.ReLU6(inplace=True),\n",
        "                                      # pw-linear\n",
        "                                      nn.Conv2d(hidden_dim, oup, 1, 1, 0,\n",
        "                                                bias=False),\n",
        "                                      nn.BatchNorm2d(oup))\n",
        "\n",
        "    def forward(self, x):\n",
        "        if self.use_res_connect:\n",
        "            return x + self.conv(x)\n",
        "        else:\n",
        "            return self.conv(x)"
      ],
      "execution_count": 0,
      "outputs": []
    },
    {
      "cell_type": "markdown",
      "metadata": {
        "id": "PQ-D8B41wgZr",
        "colab_type": "text"
      },
      "source": [
        "#### Model"
      ]
    },
    {
      "cell_type": "code",
      "metadata": {
        "trusted": true,
        "id": "XjmjBCfSwgZs",
        "colab_type": "code",
        "colab": {}
      },
      "source": [
        "class MobileNetV2(nn.Module):\n",
        "    def __init__(self, n_class=1000, input_size=224, width_mult=1.):\n",
        "        super(MobileNetV2, self).__init__()\n",
        "        block = InvertedResidual\n",
        "        input_channel = 32\n",
        "        last_channel = 1280\n",
        "        interverted_residual_setting = [\n",
        "            # t, c, n, s\n",
        "            [1, 16, 1, 1],\n",
        "            [6, 24, 2, 2],\n",
        "            [6, 32, 3, 2],\n",
        "            [6, 64, 4, 2],\n",
        "            [6, 96, 3, 1],\n",
        "            [6, 160, 3, 2],\n",
        "            [6, 320, 1, 1],\n",
        "        ]\n",
        "\n",
        "        # building first layer\n",
        "        assert input_size % 32 == 0\n",
        "        input_channel = int(input_channel * width_mult)\n",
        "        self.last_channel = int(last_channel * width_mult) \\\n",
        "            if width_mult > 1.0 else last_channel\n",
        "        self.features = [conv_bn(3, input_channel, 2)]\n",
        "        # building inverted residual blocks\n",
        "        for t, c, n, s in interverted_residual_setting:\n",
        "            output_channel = int(c * width_mult)\n",
        "            for i in range(n):\n",
        "                if i == 0:\n",
        "                    self.features.append(block(input_channel, output_channel,\n",
        "                                               s, expand_ratio=t))\n",
        "                else:\n",
        "                    self.features.append(block(input_channel, output_channel,\n",
        "                                               1, expand_ratio=t))\n",
        "                input_channel = output_channel\n",
        "        # building last several layers\n",
        "        self.features.append(conv_1x1_bn(input_channel, self.last_channel))\n",
        "        # make it nn.Sequential\n",
        "        self.features = nn.Sequential(*self.features)\n",
        "\n",
        "        # building classifier\n",
        "        self.classifier = nn.Sequential(\n",
        "            nn.Dropout(0.2),\n",
        "            nn.Linear(self.last_channel, n_class),\n",
        "        )\n",
        "\n",
        "        self._initialize_weights()\n",
        "\n",
        "    def forward(self, x):\n",
        "        x = self.features(x)\n",
        "        x = x.mean(3).mean(2)\n",
        "        x = self.classifier(x)\n",
        "        return x\n",
        "\n",
        "    def _initialize_weights(self):\n",
        "        for m in self.modules():\n",
        "            if isinstance(m, nn.Conv2d):\n",
        "                n = m.kernel_size[0] * m.kernel_size[1] * m.out_channels\n",
        "                m.weight.data.normal_(0, math.sqrt(2. / n))\n",
        "                if m.bias is not None:\n",
        "                    m.bias.data.zero_()\n",
        "            elif isinstance(m, nn.BatchNorm2d):\n",
        "                m.weight.data.fill_(1)\n",
        "                m.bias.data.zero_()\n",
        "            elif isinstance(m, nn.Linear):\n",
        "                n = m.weight.size(1)\n",
        "                m.weight.data.normal_(0, 0.01)\n",
        "                m.bias.data.zero_()"
      ],
      "execution_count": 0,
      "outputs": []
    },
    {
      "cell_type": "markdown",
      "metadata": {
        "id": "KPmJPcpNwgZt",
        "colab_type": "text"
      },
      "source": [
        "### NASNet Mobile\n",
        "Based on the implementation by Veronika Yurchuk:\n",
        "https://github.com/veronikayurchuk/pretrained-models.pytorch/blob/master/pretrainedmodels/models/nasnet_mobile.py"
      ]
    },
    {
      "cell_type": "markdown",
      "metadata": {
        "id": "fA54PAVRwgZt",
        "colab_type": "text"
      },
      "source": [
        "#### Settings\n",
        "**Modificar la normalización (mean, std), las dimensiones de entrada según las especificaciones de duración y melspectrogram (input_size) e input_space que ni puta idea de qué es.**"
      ]
    },
    {
      "cell_type": "code",
      "metadata": {
        "trusted": true,
        "id": "B7Xlk6GvwgZu",
        "colab_type": "code",
        "colab": {}
      },
      "source": [
        "settings = {\n",
        "    'nasnetamobile': {\n",
        "        'no_pretraining': {\n",
        "            'input_space': 'RGB',\n",
        "            'input_size': [3, 224, 224], # resize 256\n",
        "            'input_range': [0, 1],\n",
        "            'mean': [0.5, 0.5, 0.5],\n",
        "            'std': [0.5, 0.5, 0.5],\n",
        "            'num_classes': 80\n",
        "        }\n",
        "    }\n",
        "}"
      ],
      "execution_count": 0,
      "outputs": []
    },
    {
      "cell_type": "markdown",
      "metadata": {
        "id": "3y2-F3aBwgZv",
        "colab_type": "text"
      },
      "source": [
        "#### Blocks"
      ]
    },
    {
      "cell_type": "code",
      "metadata": {
        "trusted": true,
        "id": "fjwnhPh2wgZv",
        "colab_type": "code",
        "colab": {}
      },
      "source": [
        "class MaxPoolPad(nn.Module):\n",
        "    def __init__(self):\n",
        "        super(MaxPoolPad, self).__init__()\n",
        "        self.pad = nn.ZeroPad2d((1, 0, 1, 0))\n",
        "        self.pool = nn.MaxPool2d(3, stride=2, padding=1)\n",
        "\n",
        "    def forward(self, x):\n",
        "        x = self.pad(x)\n",
        "        x = self.pool(x)\n",
        "        x = x[:, :, 1:, 1:].contiguous()\n",
        "        return x\n",
        "\n",
        "\n",
        "class AvgPoolPad(nn.Module):\n",
        "    def __init__(self, stride=2, padding=1):\n",
        "        super(AvgPoolPad, self).__init__()\n",
        "        self.pad = nn.ZeroPad2d((1, 0, 1, 0))\n",
        "        self.pool = nn.AvgPool2d(3, stride=stride, padding=padding, count_include_pad=False)\n",
        "\n",
        "    def forward(self, x):\n",
        "        x = self.pad(x)\n",
        "        x = self.pool(x)\n",
        "        x = x[:, :, 1:, 1:].contiguous()\n",
        "        return x\n",
        "\n",
        "\n",
        "class SeparableConv2d(nn.Module):\n",
        "    def __init__(self, in_channels, out_channels, dw_kernel, dw_stride, dw_padding, bias=False):\n",
        "        super(SeparableConv2d, self).__init__()\n",
        "        self.depthwise_conv2d = nn.Conv2d(in_channels, in_channels, dw_kernel,\n",
        "                                          stride=dw_stride,\n",
        "                                          padding=dw_padding,\n",
        "                                          bias=bias,\n",
        "                                          groups=in_channels)\n",
        "        self.pointwise_conv2d = nn.Conv2d(in_channels, out_channels, 1, stride=1, bias=bias)\n",
        "\n",
        "    def forward(self, x):\n",
        "        x = self.depthwise_conv2d(x)\n",
        "        x = self.pointwise_conv2d(x)\n",
        "        return x\n",
        "\n",
        "\n",
        "class BranchSeparables(nn.Module):\n",
        "    def __init__(self, in_channels, out_channels, kernel_size, stride, padding, name=None, bias=False):\n",
        "        super(BranchSeparables, self).__init__()\n",
        "        self.relu = nn.ReLU()\n",
        "        self.separable_1 = SeparableConv2d(in_channels, in_channels, kernel_size, stride, padding, bias=bias)\n",
        "        self.bn_sep_1 = nn.BatchNorm2d(in_channels, eps=0.001, momentum=0.1, affine=True)\n",
        "        self.relu1 = nn.ReLU()\n",
        "        self.separable_2 = SeparableConv2d(in_channels, out_channels, kernel_size, 1, padding, bias=bias)\n",
        "        self.bn_sep_2 = nn.BatchNorm2d(out_channels, eps=0.001, momentum=0.1, affine=True)\n",
        "        self.name = name\n",
        "\n",
        "    def forward(self, x):\n",
        "        x = self.relu(x)\n",
        "        if self.name == 'specific':\n",
        "            x = nn.ZeroPad2d((1, 0, 1, 0))(x)\n",
        "        x = self.separable_1(x)\n",
        "        if self.name == 'specific':\n",
        "            x = x[:, :, 1:, 1:].contiguous()\n",
        "\n",
        "        x = self.bn_sep_1(x)\n",
        "        x = self.relu1(x)\n",
        "        x = self.separable_2(x)\n",
        "        x = self.bn_sep_2(x)\n",
        "        return x\n",
        "\n",
        "\n",
        "class BranchSeparablesStem(nn.Module):\n",
        "    def __init__(self, in_channels, out_channels, kernel_size, stride, padding, bias=False):\n",
        "        super(BranchSeparablesStem, self).__init__()\n",
        "        self.relu = nn.ReLU()\n",
        "        self.separable_1 = SeparableConv2d(in_channels, out_channels, kernel_size, stride, padding, bias=bias)\n",
        "        self.bn_sep_1 = nn.BatchNorm2d(out_channels, eps=0.001, momentum=0.1, affine=True)\n",
        "        self.relu1 = nn.ReLU()\n",
        "        self.separable_2 = SeparableConv2d(out_channels, out_channels, kernel_size, 1, padding, bias=bias)\n",
        "        self.bn_sep_2 = nn.BatchNorm2d(out_channels, eps=0.001, momentum=0.1, affine=True)\n",
        "\n",
        "    def forward(self, x):\n",
        "        x = self.relu(x)\n",
        "        x = self.separable_1(x)\n",
        "        x = self.bn_sep_1(x)\n",
        "        x = self.relu1(x)\n",
        "        x = self.separable_2(x)\n",
        "        x = self.bn_sep_2(x)\n",
        "        return x\n",
        "\n",
        "\n",
        "class BranchSeparablesReduction(BranchSeparables):\n",
        "    def __init__(self, in_channels, out_channels, kernel_size, stride, padding, z_padding=1, bias=False):\n",
        "        BranchSeparables.__init__(self, in_channels, out_channels, kernel_size, stride, padding, bias)\n",
        "        self.padding = nn.ZeroPad2d((z_padding, 0, z_padding, 0))\n",
        "\n",
        "    def forward(self, x):\n",
        "        x = self.relu(x)\n",
        "        x = self.padding(x)\n",
        "        x = self.separable_1(x)\n",
        "        x = x[:, :, 1:, 1:].contiguous()\n",
        "        x = self.bn_sep_1(x)\n",
        "        x = self.relu1(x)\n",
        "        x = self.separable_2(x)\n",
        "        x = self.bn_sep_2(x)\n",
        "        return x\n",
        "\n",
        "\n",
        "class CellStem0(nn.Module):\n",
        "    def __init__(self, stem_filters, num_filters=42):\n",
        "        super(CellStem0, self).__init__()\n",
        "        self.num_filters = num_filters\n",
        "        self.stem_filters = stem_filters\n",
        "        self.conv_1x1 = nn.Sequential()\n",
        "        self.conv_1x1.add_module('relu', nn.ReLU())\n",
        "        self.conv_1x1.add_module('conv', nn.Conv2d(self.stem_filters, self.num_filters, 1, stride=1, bias=False))\n",
        "        self.conv_1x1.add_module('bn', nn.BatchNorm2d(self.num_filters, eps=0.001, momentum=0.1, affine=True))\n",
        "\n",
        "        self.comb_iter_0_left = BranchSeparables(self.num_filters, self.num_filters, 5, 2, 2)\n",
        "        self.comb_iter_0_right = BranchSeparablesStem(self.stem_filters, self.num_filters, 7, 2, 3, bias=False)\n",
        "\n",
        "        self.comb_iter_1_left = nn.MaxPool2d(3, stride=2, padding=1)\n",
        "        self.comb_iter_1_right = BranchSeparablesStem(self.stem_filters, self.num_filters, 7, 2, 3, bias=False)\n",
        "\n",
        "        self.comb_iter_2_left = nn.AvgPool2d(3, stride=2, padding=1, count_include_pad=False)\n",
        "        self.comb_iter_2_right = BranchSeparablesStem(self.stem_filters, self.num_filters, 5, 2, 2, bias=False)\n",
        "\n",
        "        self.comb_iter_3_right = nn.AvgPool2d(3, stride=1, padding=1, count_include_pad=False)\n",
        "\n",
        "        self.comb_iter_4_left = BranchSeparables(self.num_filters, self.num_filters, 3, 1, 1, bias=False)\n",
        "        self.comb_iter_4_right = nn.MaxPool2d(3, stride=2, padding=1)\n",
        "\n",
        "    def forward(self, x):\n",
        "        x1 = self.conv_1x1(x)\n",
        "\n",
        "        x_comb_iter_0_left = self.comb_iter_0_left(x1)\n",
        "        x_comb_iter_0_right = self.comb_iter_0_right(x)\n",
        "        x_comb_iter_0 = x_comb_iter_0_left + x_comb_iter_0_right\n",
        "\n",
        "        x_comb_iter_1_left = self.comb_iter_1_left(x1)\n",
        "        x_comb_iter_1_right = self.comb_iter_1_right(x)\n",
        "        x_comb_iter_1 = x_comb_iter_1_left + x_comb_iter_1_right\n",
        "\n",
        "        x_comb_iter_2_left = self.comb_iter_2_left(x1)\n",
        "        x_comb_iter_2_right = self.comb_iter_2_right(x)\n",
        "        x_comb_iter_2 = x_comb_iter_2_left + x_comb_iter_2_right\n",
        "\n",
        "        x_comb_iter_3_right = self.comb_iter_3_right(x_comb_iter_0)\n",
        "        x_comb_iter_3 = x_comb_iter_3_right + x_comb_iter_1\n",
        "\n",
        "        x_comb_iter_4_left = self.comb_iter_4_left(x_comb_iter_0)\n",
        "        x_comb_iter_4_right = self.comb_iter_4_right(x1)\n",
        "        x_comb_iter_4 = x_comb_iter_4_left + x_comb_iter_4_right\n",
        "\n",
        "        x_out = torch.cat([x_comb_iter_1, x_comb_iter_2, x_comb_iter_3, x_comb_iter_4], 1)\n",
        "        return x_out\n",
        "\n",
        "\n",
        "class CellStem1(nn.Module):\n",
        "    def __init__(self, stem_filters, num_filters):\n",
        "        super(CellStem1, self).__init__()\n",
        "        self.num_filters = num_filters\n",
        "        self.stem_filters = stem_filters\n",
        "        self.conv_1x1 = nn.Sequential()\n",
        "        self.conv_1x1.add_module('relu', nn.ReLU())\n",
        "        self.conv_1x1.add_module('conv', nn.Conv2d(2*self.num_filters, self.num_filters, 1, stride=1, bias=False))\n",
        "        self.conv_1x1.add_module('bn', nn.BatchNorm2d(self.num_filters, eps=0.001, momentum=0.1, affine=True))\n",
        "\n",
        "        self.relu = nn.ReLU()\n",
        "        self.path_1 = nn.Sequential()\n",
        "        self.path_1.add_module('avgpool', nn.AvgPool2d(1, stride=2, count_include_pad=False))\n",
        "        self.path_1.add_module('conv', nn.Conv2d(self.stem_filters, self.num_filters//2, 1, stride=1, bias=False))\n",
        "        self.path_2 = nn.ModuleList()\n",
        "        self.path_2.add_module('pad', nn.ZeroPad2d((0, 1, 0, 1)))\n",
        "        self.path_2.add_module('avgpool', nn.AvgPool2d(1, stride=2, count_include_pad=False))\n",
        "        self.path_2.add_module('conv', nn.Conv2d(self.stem_filters, self.num_filters//2, 1, stride=1, bias=False))\n",
        "\n",
        "        self.final_path_bn = nn.BatchNorm2d(self.num_filters, eps=0.001, momentum=0.1, affine=True)\n",
        "\n",
        "        self.comb_iter_0_left = BranchSeparables(self.num_filters, self.num_filters, 5, 2, 2, name='specific', bias=False)\n",
        "        self.comb_iter_0_right = BranchSeparables(self.num_filters, self.num_filters, 7, 2, 3, name='specific', bias=False)\n",
        "\n",
        "        # self.comb_iter_1_left = nn.MaxPool2d(3, stride=2, padding=1)\n",
        "        self.comb_iter_1_left = MaxPoolPad()\n",
        "        self.comb_iter_1_right = BranchSeparables(self.num_filters, self.num_filters, 7, 2, 3, name='specific', bias=False)\n",
        "\n",
        "        # self.comb_iter_2_left = nn.AvgPool2d(3, stride=2, padding=1, count_include_pad=False)\n",
        "        self.comb_iter_2_left = AvgPoolPad()\n",
        "        self.comb_iter_2_right = BranchSeparables(self.num_filters, self.num_filters, 5, 2, 2, name='specific', bias=False)\n",
        "\n",
        "        self.comb_iter_3_right = nn.AvgPool2d(3, stride=1, padding=1, count_include_pad=False)\n",
        "\n",
        "        self.comb_iter_4_left = BranchSeparables(self.num_filters, self.num_filters, 3, 1, 1, name='specific', bias=False)\n",
        "        # self.comb_iter_4_right = nn.MaxPool2d(3, stride=2, padding=1)\n",
        "        self.comb_iter_4_right = MaxPoolPad()\n",
        "\n",
        "    def forward(self, x_conv0, x_stem_0):\n",
        "        x_left = self.conv_1x1(x_stem_0)\n",
        "\n",
        "        x_relu = self.relu(x_conv0)\n",
        "        # path 1\n",
        "        x_path1 = self.path_1(x_relu)\n",
        "        # path 2\n",
        "        x_path2 = self.path_2.pad(x_relu)\n",
        "        x_path2 = x_path2[:, :, 1:, 1:]\n",
        "        x_path2 = self.path_2.avgpool(x_path2)\n",
        "        x_path2 = self.path_2.conv(x_path2)\n",
        "        # final path\n",
        "        x_right = self.final_path_bn(torch.cat([x_path1, x_path2], 1))\n",
        "\n",
        "        x_comb_iter_0_left = self.comb_iter_0_left(x_left)\n",
        "        x_comb_iter_0_right = self.comb_iter_0_right(x_right)\n",
        "        x_comb_iter_0 = x_comb_iter_0_left + x_comb_iter_0_right\n",
        "\n",
        "        x_comb_iter_1_left = self.comb_iter_1_left(x_left)\n",
        "        x_comb_iter_1_right = self.comb_iter_1_right(x_right)\n",
        "        x_comb_iter_1 = x_comb_iter_1_left + x_comb_iter_1_right\n",
        "\n",
        "        x_comb_iter_2_left = self.comb_iter_2_left(x_left)\n",
        "        x_comb_iter_2_right = self.comb_iter_2_right(x_right)\n",
        "        x_comb_iter_2 = x_comb_iter_2_left + x_comb_iter_2_right\n",
        "\n",
        "        x_comb_iter_3_right = self.comb_iter_3_right(x_comb_iter_0)\n",
        "        x_comb_iter_3 = x_comb_iter_3_right + x_comb_iter_1\n",
        "\n",
        "        x_comb_iter_4_left = self.comb_iter_4_left(x_comb_iter_0)\n",
        "        x_comb_iter_4_right = self.comb_iter_4_right(x_left)\n",
        "        x_comb_iter_4 = x_comb_iter_4_left + x_comb_iter_4_right\n",
        "\n",
        "        x_out = torch.cat([x_comb_iter_1, x_comb_iter_2, x_comb_iter_3, x_comb_iter_4], 1)\n",
        "        return x_out\n",
        "\n",
        "\n",
        "class FirstCell(nn.Module):\n",
        "    def __init__(self, in_channels_left, out_channels_left, in_channels_right, out_channels_right):\n",
        "        super(FirstCell, self).__init__()\n",
        "        self.conv_1x1 = nn.Sequential()\n",
        "        self.conv_1x1.add_module('relu', nn.ReLU())\n",
        "        self.conv_1x1.add_module('conv', nn.Conv2d(in_channels_right, out_channels_right, 1, stride=1, bias=False))\n",
        "        self.conv_1x1.add_module('bn', nn.BatchNorm2d(out_channels_right, eps=0.001, momentum=0.1, affine=True))\n",
        "\n",
        "        self.relu = nn.ReLU()\n",
        "        self.path_1 = nn.Sequential()\n",
        "        self.path_1.add_module('avgpool', nn.AvgPool2d(1, stride=2, count_include_pad=False))\n",
        "        self.path_1.add_module('conv', nn.Conv2d(in_channels_left, out_channels_left, 1, stride=1, bias=False))\n",
        "        self.path_2 = nn.ModuleList()\n",
        "        self.path_2.add_module('pad', nn.ZeroPad2d((0, 1, 0, 1)))\n",
        "        self.path_2.add_module('avgpool', nn.AvgPool2d(1, stride=2, count_include_pad=False))\n",
        "        self.path_2.add_module('conv', nn.Conv2d(in_channels_left, out_channels_left, 1, stride=1, bias=False))\n",
        "\n",
        "        self.final_path_bn = nn.BatchNorm2d(out_channels_left * 2, eps=0.001, momentum=0.1, affine=True)\n",
        "\n",
        "        self.comb_iter_0_left = BranchSeparables(out_channels_right, out_channels_right, 5, 1, 2, bias=False)\n",
        "        self.comb_iter_0_right = BranchSeparables(out_channels_right, out_channels_right, 3, 1, 1, bias=False)\n",
        "\n",
        "        self.comb_iter_1_left = BranchSeparables(out_channels_right, out_channels_right, 5, 1, 2, bias=False)\n",
        "        self.comb_iter_1_right = BranchSeparables(out_channels_right, out_channels_right, 3, 1, 1, bias=False)\n",
        "\n",
        "        self.comb_iter_2_left = nn.AvgPool2d(3, stride=1, padding=1, count_include_pad=False)\n",
        "\n",
        "        self.comb_iter_3_left = nn.AvgPool2d(3, stride=1, padding=1, count_include_pad=False)\n",
        "        self.comb_iter_3_right = nn.AvgPool2d(3, stride=1, padding=1, count_include_pad=False)\n",
        "\n",
        "        self.comb_iter_4_left = BranchSeparables(out_channels_right, out_channels_right, 3, 1, 1, bias=False)\n",
        "\n",
        "    def forward(self, x, x_prev):\n",
        "        x_relu = self.relu(x_prev)\n",
        "        # path 1\n",
        "        x_path1 = self.path_1(x_relu)\n",
        "        # path 2\n",
        "        x_path2 = self.path_2.pad(x_relu)\n",
        "        x_path2 = x_path2[:, :, 1:, 1:]\n",
        "        x_path2 = self.path_2.avgpool(x_path2)\n",
        "        x_path2 = self.path_2.conv(x_path2)\n",
        "        # final path\n",
        "        x_left = self.final_path_bn(torch.cat([x_path1, x_path2], 1))\n",
        "\n",
        "        x_right = self.conv_1x1(x)\n",
        "\n",
        "        x_comb_iter_0_left = self.comb_iter_0_left(x_right)\n",
        "        x_comb_iter_0_right = self.comb_iter_0_right(x_left)\n",
        "        x_comb_iter_0 = x_comb_iter_0_left + x_comb_iter_0_right\n",
        "\n",
        "        x_comb_iter_1_left = self.comb_iter_1_left(x_left)\n",
        "        x_comb_iter_1_right = self.comb_iter_1_right(x_left)\n",
        "        x_comb_iter_1 = x_comb_iter_1_left + x_comb_iter_1_right\n",
        "\n",
        "        x_comb_iter_2_left = self.comb_iter_2_left(x_right)\n",
        "        x_comb_iter_2 = x_comb_iter_2_left + x_left\n",
        "\n",
        "        x_comb_iter_3_left = self.comb_iter_3_left(x_left)\n",
        "        x_comb_iter_3_right = self.comb_iter_3_right(x_left)\n",
        "        x_comb_iter_3 = x_comb_iter_3_left + x_comb_iter_3_right\n",
        "\n",
        "        x_comb_iter_4_left = self.comb_iter_4_left(x_right)\n",
        "        x_comb_iter_4 = x_comb_iter_4_left + x_right\n",
        "\n",
        "        x_out = torch.cat([x_left, x_comb_iter_0, x_comb_iter_1, x_comb_iter_2, x_comb_iter_3, x_comb_iter_4], 1)\n",
        "        return x_out\n",
        "\n",
        "\n",
        "class NormalCell(nn.Module):\n",
        "    def __init__(self, in_channels_left, out_channels_left, in_channels_right, out_channels_right):\n",
        "        super(NormalCell, self).__init__()\n",
        "        self.conv_prev_1x1 = nn.Sequential()\n",
        "        self.conv_prev_1x1.add_module('relu', nn.ReLU())\n",
        "        self.conv_prev_1x1.add_module('conv', nn.Conv2d(in_channels_left, out_channels_left, 1, stride=1, bias=False))\n",
        "        self.conv_prev_1x1.add_module('bn', nn.BatchNorm2d(out_channels_left, eps=0.001, momentum=0.1, affine=True))\n",
        "\n",
        "        self.conv_1x1 = nn.Sequential()\n",
        "        self.conv_1x1.add_module('relu', nn.ReLU())\n",
        "        self.conv_1x1.add_module('conv', nn.Conv2d(in_channels_right, out_channels_right, 1, stride=1, bias=False))\n",
        "        self.conv_1x1.add_module('bn', nn.BatchNorm2d(out_channels_right, eps=0.001, momentum=0.1, affine=True))\n",
        "\n",
        "        self.comb_iter_0_left = BranchSeparables(out_channels_right, out_channels_right, 5, 1, 2, bias=False)\n",
        "        self.comb_iter_0_right = BranchSeparables(out_channels_left, out_channels_left, 3, 1, 1, bias=False)\n",
        "\n",
        "        self.comb_iter_1_left = BranchSeparables(out_channels_left, out_channels_left, 5, 1, 2, bias=False)\n",
        "        self.comb_iter_1_right = BranchSeparables(out_channels_left, out_channels_left, 3, 1, 1, bias=False)\n",
        "\n",
        "        self.comb_iter_2_left = nn.AvgPool2d(3, stride=1, padding=1, count_include_pad=False)\n",
        "\n",
        "        self.comb_iter_3_left = nn.AvgPool2d(3, stride=1, padding=1, count_include_pad=False)\n",
        "        self.comb_iter_3_right = nn.AvgPool2d(3, stride=1, padding=1, count_include_pad=False)\n",
        "\n",
        "        self.comb_iter_4_left = BranchSeparables(out_channels_right, out_channels_right, 3, 1, 1, bias=False)\n",
        "\n",
        "    def forward(self, x, x_prev):\n",
        "        x_left = self.conv_prev_1x1(x_prev)\n",
        "        x_right = self.conv_1x1(x)\n",
        "\n",
        "        x_comb_iter_0_left = self.comb_iter_0_left(x_right)\n",
        "        x_comb_iter_0_right = self.comb_iter_0_right(x_left)\n",
        "        x_comb_iter_0 = x_comb_iter_0_left + x_comb_iter_0_right\n",
        "\n",
        "        x_comb_iter_1_left = self.comb_iter_1_left(x_left)\n",
        "        x_comb_iter_1_right = self.comb_iter_1_right(x_left)\n",
        "        x_comb_iter_1 = x_comb_iter_1_left + x_comb_iter_1_right\n",
        "\n",
        "        x_comb_iter_2_left = self.comb_iter_2_left(x_right)\n",
        "        x_comb_iter_2 = x_comb_iter_2_left + x_left\n",
        "\n",
        "        x_comb_iter_3_left = self.comb_iter_3_left(x_left)\n",
        "        x_comb_iter_3_right = self.comb_iter_3_right(x_left)\n",
        "        x_comb_iter_3 = x_comb_iter_3_left + x_comb_iter_3_right\n",
        "\n",
        "        x_comb_iter_4_left = self.comb_iter_4_left(x_right)\n",
        "        x_comb_iter_4 = x_comb_iter_4_left + x_right\n",
        "\n",
        "        x_out = torch.cat([x_left, x_comb_iter_0, x_comb_iter_1, x_comb_iter_2, x_comb_iter_3, x_comb_iter_4], 1)\n",
        "        return x_out\n",
        "\n",
        "\n",
        "class ReductionCell0(nn.Module):\n",
        "    def __init__(self, in_channels_left, out_channels_left, in_channels_right, out_channels_right):\n",
        "        super(ReductionCell0, self).__init__()\n",
        "        self.conv_prev_1x1 = nn.Sequential()\n",
        "        self.conv_prev_1x1.add_module('relu', nn.ReLU())\n",
        "        self.conv_prev_1x1.add_module('conv', nn.Conv2d(in_channels_left, out_channels_left, 1, stride=1, bias=False))\n",
        "        self.conv_prev_1x1.add_module('bn', nn.BatchNorm2d(out_channels_left, eps=0.001, momentum=0.1, affine=True))\n",
        "\n",
        "        self.conv_1x1 = nn.Sequential()\n",
        "        self.conv_1x1.add_module('relu', nn.ReLU())\n",
        "        self.conv_1x1.add_module('conv', nn.Conv2d(in_channels_right, out_channels_right, 1, stride=1, bias=False))\n",
        "        self.conv_1x1.add_module('bn', nn.BatchNorm2d(out_channels_right, eps=0.001, momentum=0.1, affine=True))\n",
        "\n",
        "        self.comb_iter_0_left = BranchSeparablesReduction(out_channels_right, out_channels_right, 5, 2, 2, bias=False)\n",
        "        self.comb_iter_0_right = BranchSeparablesReduction(out_channels_right, out_channels_right, 7, 2, 3, bias=False)\n",
        "\n",
        "        self.comb_iter_1_left = MaxPoolPad()\n",
        "        self.comb_iter_1_right = BranchSeparablesReduction(out_channels_right, out_channels_right, 7, 2, 3, bias=False)\n",
        "\n",
        "        self.comb_iter_2_left = AvgPoolPad()\n",
        "        self.comb_iter_2_right = BranchSeparablesReduction(out_channels_right, out_channels_right, 5, 2, 2, bias=False)\n",
        "\n",
        "        self.comb_iter_3_right = nn.AvgPool2d(3, stride=1, padding=1, count_include_pad=False)\n",
        "\n",
        "        self.comb_iter_4_left = BranchSeparablesReduction(out_channels_right, out_channels_right, 3, 1, 1, bias=False)\n",
        "        self.comb_iter_4_right = MaxPoolPad()\n",
        "\n",
        "    def forward(self, x, x_prev):\n",
        "        x_left = self.conv_prev_1x1(x_prev)\n",
        "        x_right = self.conv_1x1(x)\n",
        "\n",
        "        x_comb_iter_0_left = self.comb_iter_0_left(x_right)\n",
        "        x_comb_iter_0_right = self.comb_iter_0_right(x_left)\n",
        "        x_comb_iter_0 = x_comb_iter_0_left + x_comb_iter_0_right\n",
        "\n",
        "        x_comb_iter_1_left = self.comb_iter_1_left(x_right)\n",
        "        x_comb_iter_1_right = self.comb_iter_1_right(x_left)\n",
        "        x_comb_iter_1 = x_comb_iter_1_left + x_comb_iter_1_right\n",
        "\n",
        "        x_comb_iter_2_left = self.comb_iter_2_left(x_right)\n",
        "        x_comb_iter_2_right = self.comb_iter_2_right(x_left)\n",
        "        x_comb_iter_2 = x_comb_iter_2_left + x_comb_iter_2_right\n",
        "\n",
        "        x_comb_iter_3_right = self.comb_iter_3_right(x_comb_iter_0)\n",
        "        x_comb_iter_3 = x_comb_iter_3_right + x_comb_iter_1\n",
        "\n",
        "        x_comb_iter_4_left = self.comb_iter_4_left(x_comb_iter_0)\n",
        "        x_comb_iter_4_right = self.comb_iter_4_right(x_right)\n",
        "        x_comb_iter_4 = x_comb_iter_4_left + x_comb_iter_4_right\n",
        "\n",
        "        x_out = torch.cat([x_comb_iter_1, x_comb_iter_2, x_comb_iter_3, x_comb_iter_4], 1)\n",
        "        return x_out\n",
        "\n",
        "\n",
        "class ReductionCell1(nn.Module):\n",
        "    def __init__(self, in_channels_left, out_channels_left, in_channels_right, out_channels_right):\n",
        "        super(ReductionCell1, self).__init__()\n",
        "        self.conv_prev_1x1 = nn.Sequential()\n",
        "        self.conv_prev_1x1.add_module('relu', nn.ReLU())\n",
        "        self.conv_prev_1x1.add_module('conv', nn.Conv2d(in_channels_left, out_channels_left, 1, stride=1, bias=False))\n",
        "        self.conv_prev_1x1.add_module('bn', nn.BatchNorm2d(out_channels_left, eps=0.001, momentum=0.1, affine=True))\n",
        "\n",
        "        self.conv_1x1 = nn.Sequential()\n",
        "        self.conv_1x1.add_module('relu', nn.ReLU())\n",
        "        self.conv_1x1.add_module('conv', nn.Conv2d(in_channels_right, out_channels_right, 1, stride=1, bias=False))\n",
        "        self.conv_1x1.add_module('bn', nn.BatchNorm2d(out_channels_right, eps=0.001, momentum=0.1, affine=True))\n",
        "\n",
        "        self.comb_iter_0_left = BranchSeparables(out_channels_right, out_channels_right, 5, 2, 2, name='specific', bias=False)\n",
        "        self.comb_iter_0_right = BranchSeparables(out_channels_right, out_channels_right, 7, 2, 3, name='specific', bias=False)\n",
        "\n",
        "        # self.comb_iter_1_left = nn.MaxPool2d(3, stride=2, padding=1)\n",
        "        self.comb_iter_1_left = MaxPoolPad()\n",
        "        self.comb_iter_1_right = BranchSeparables(out_channels_right, out_channels_right, 7, 2, 3, name='specific', bias=False)\n",
        "\n",
        "        # self.comb_iter_2_left = nn.AvgPool2d(3, stride=2, padding=1, count_include_pad=False)\n",
        "        self.comb_iter_2_left = AvgPoolPad()\n",
        "        self.comb_iter_2_right = BranchSeparables(out_channels_right, out_channels_right, 5, 2, 2, name='specific', bias=False)\n",
        "\n",
        "        self.comb_iter_3_right = nn.AvgPool2d(3, stride=1, padding=1, count_include_pad=False)\n",
        "\n",
        "        self.comb_iter_4_left = BranchSeparables(out_channels_right, out_channels_right, 3, 1, 1, name='specific', bias=False)\n",
        "        # self.comb_iter_4_right = nn.MaxPool2d(3, stride=2, padding=1)\n",
        "        self.comb_iter_4_right =MaxPoolPad()\n",
        "\n",
        "    def forward(self, x, x_prev):\n",
        "        x_left = self.conv_prev_1x1(x_prev)\n",
        "        x_right = self.conv_1x1(x)\n",
        "\n",
        "        x_comb_iter_0_left = self.comb_iter_0_left(x_right)\n",
        "        x_comb_iter_0_right = self.comb_iter_0_right(x_left)\n",
        "        x_comb_iter_0 = x_comb_iter_0_left + x_comb_iter_0_right\n",
        "\n",
        "        x_comb_iter_1_left = self.comb_iter_1_left(x_right)\n",
        "        x_comb_iter_1_right = self.comb_iter_1_right(x_left)\n",
        "        x_comb_iter_1 = x_comb_iter_1_left + x_comb_iter_1_right\n",
        "\n",
        "        x_comb_iter_2_left = self.comb_iter_2_left(x_right)\n",
        "        x_comb_iter_2_right = self.comb_iter_2_right(x_left)\n",
        "        x_comb_iter_2 = x_comb_iter_2_left + x_comb_iter_2_right\n",
        "\n",
        "        x_comb_iter_3_right = self.comb_iter_3_right(x_comb_iter_0)\n",
        "        x_comb_iter_3 = x_comb_iter_3_right + x_comb_iter_1\n",
        "\n",
        "        x_comb_iter_4_left = self.comb_iter_4_left(x_comb_iter_0)\n",
        "        x_comb_iter_4_right = self.comb_iter_4_right(x_right)\n",
        "        x_comb_iter_4 = x_comb_iter_4_left + x_comb_iter_4_right\n",
        "\n",
        "        x_out = torch.cat([x_comb_iter_1, x_comb_iter_2, x_comb_iter_3, x_comb_iter_4], 1)\n",
        "        return x_out"
      ],
      "execution_count": 0,
      "outputs": []
    },
    {
      "cell_type": "markdown",
      "metadata": {
        "id": "rkbInhsTwgZx",
        "colab_type": "text"
      },
      "source": [
        "#### Model"
      ]
    },
    {
      "cell_type": "code",
      "metadata": {
        "trusted": true,
        "id": "YvRQAeDnwgZx",
        "colab_type": "code",
        "colab": {}
      },
      "source": [
        "class NASNetAMobile(nn.Module):\n",
        "    \"\"\"NASNetAMobile (4 @ 1056) \"\"\"\n",
        "    def __init__(self, num_classes=1001, stem_filters=32, penultimate_filters=1056, filters_multiplier=2):\n",
        "        super(NASNetAMobile, self).__init__()\n",
        "        self.num_classes = num_classes\n",
        "        self.stem_filters = stem_filters\n",
        "        self.penultimate_filters = penultimate_filters\n",
        "        self.filters_multiplier = filters_multiplier\n",
        "\n",
        "        filters = self.penultimate_filters // 24\n",
        "        # 24 is default value for the architecture\n",
        "\n",
        "        self.conv0 = nn.Sequential()\n",
        "        self.conv0.add_module('conv', nn.Conv2d(in_channels=3, out_channels=self.stem_filters, kernel_size=3, padding=0, stride=2,\n",
        "                                                bias=False))\n",
        "        self.conv0.add_module('bn', nn.BatchNorm2d(self.stem_filters, eps=0.001, momentum=0.1, affine=True))\n",
        "\n",
        "        self.cell_stem_0 = CellStem0(self.stem_filters, num_filters=filters // (filters_multiplier ** 2))\n",
        "        self.cell_stem_1 = CellStem1(self.stem_filters, num_filters=filters // filters_multiplier)\n",
        "\n",
        "        self.cell_0 = FirstCell(in_channels_left=filters, out_channels_left=filters//2, # 1, 0.5\n",
        "                                in_channels_right=2*filters, out_channels_right=filters) # 2, 1\n",
        "        self.cell_1 = NormalCell(in_channels_left=2*filters, out_channels_left=filters, # 2, 1\n",
        "                                 in_channels_right=6*filters, out_channels_right=filters) # 6, 1\n",
        "        self.cell_2 = NormalCell(in_channels_left=6*filters, out_channels_left=filters, # 6, 1\n",
        "                                 in_channels_right=6*filters, out_channels_right=filters) # 6, 1\n",
        "        self.cell_3 = NormalCell(in_channels_left=6*filters, out_channels_left=filters, # 6, 1\n",
        "                                 in_channels_right=6*filters, out_channels_right=filters) # 6, 1\n",
        "\n",
        "        self.reduction_cell_0 = ReductionCell0(in_channels_left=6*filters, out_channels_left=2*filters, # 6, 2\n",
        "                                               in_channels_right=6*filters, out_channels_right=2*filters) # 6, 2\n",
        "\n",
        "        self.cell_6 = FirstCell(in_channels_left=6*filters, out_channels_left=filters, # 6, 1\n",
        "                                in_channels_right=8*filters, out_channels_right=2*filters) # 8, 2\n",
        "        self.cell_7 = NormalCell(in_channels_left=8*filters, out_channels_left=2*filters, # 8, 2\n",
        "                                 in_channels_right=12*filters, out_channels_right=2*filters) # 12, 2\n",
        "        self.cell_8 = NormalCell(in_channels_left=12*filters, out_channels_left=2*filters, # 12, 2\n",
        "                                 in_channels_right=12*filters, out_channels_right=2*filters) # 12, 2\n",
        "        self.cell_9 = NormalCell(in_channels_left=12*filters, out_channels_left=2*filters, # 12, 2\n",
        "                                 in_channels_right=12*filters, out_channels_right=2*filters) # 12, 2\n",
        "\n",
        "        self.reduction_cell_1 = ReductionCell1(in_channels_left=12*filters, out_channels_left=4*filters, # 12, 4\n",
        "                                               in_channels_right=12*filters, out_channels_right=4*filters) # 12, 4\n",
        "\n",
        "        self.cell_12 = FirstCell(in_channels_left=12*filters, out_channels_left=2*filters, # 12, 2\n",
        "                                 in_channels_right=16*filters, out_channels_right=4*filters) # 16, 4\n",
        "        self.cell_13 = NormalCell(in_channels_left=16*filters, out_channels_left=4*filters, # 16, 4\n",
        "                                  in_channels_right=24*filters, out_channels_right=4*filters) # 24, 4\n",
        "        self.cell_14 = NormalCell(in_channels_left=24*filters, out_channels_left=4*filters, # 24, 4\n",
        "                                  in_channels_right=24*filters, out_channels_right=4*filters) # 24, 4\n",
        "        self.cell_15 = NormalCell(in_channels_left=24*filters, out_channels_left=4*filters, # 24, 4\n",
        "                                  in_channels_right=24*filters, out_channels_right=4*filters) # 24, 4\n",
        "\n",
        "        self.relu = nn.ReLU()\n",
        "        self.avg_pool = nn.AvgPool2d(7, stride=1, padding=0)\n",
        "        self.dropout = nn.Dropout()\n",
        "        self.last_linear = nn.Linear(24*filters, self.num_classes)\n",
        "\n",
        "    def features(self, input):\n",
        "        x_conv0 = self.conv0(input)\n",
        "        x_stem_0 = self.cell_stem_0(x_conv0)\n",
        "        x_stem_1 = self.cell_stem_1(x_conv0, x_stem_0)\n",
        "\n",
        "        x_cell_0 = self.cell_0(x_stem_1, x_stem_0)\n",
        "        x_cell_1 = self.cell_1(x_cell_0, x_stem_1)\n",
        "        x_cell_2 = self.cell_2(x_cell_1, x_cell_0)\n",
        "        x_cell_3 = self.cell_3(x_cell_2, x_cell_1)\n",
        "\n",
        "        x_reduction_cell_0 = self.reduction_cell_0(x_cell_3, x_cell_2)\n",
        "\n",
        "        x_cell_6 = self.cell_6(x_reduction_cell_0, x_cell_3)\n",
        "        x_cell_7 = self.cell_7(x_cell_6, x_reduction_cell_0)\n",
        "        x_cell_8 = self.cell_8(x_cell_7, x_cell_6)\n",
        "        x_cell_9 = self.cell_9(x_cell_8, x_cell_7)\n",
        "\n",
        "        x_reduction_cell_1 = self.reduction_cell_1(x_cell_9, x_cell_8)\n",
        "\n",
        "        x_cell_12 = self.cell_12(x_reduction_cell_1, x_cell_9)\n",
        "        x_cell_13 = self.cell_13(x_cell_12, x_reduction_cell_1)\n",
        "        x_cell_14 = self.cell_14(x_cell_13, x_cell_12)\n",
        "        x_cell_15 = self.cell_15(x_cell_14, x_cell_13)\n",
        "        return x_cell_15\n",
        "\n",
        "    def logits(self, features):\n",
        "        x = self.relu(features)\n",
        "        x = self.avg_pool(x)\n",
        "        x = x.view(x.size(0), -1)\n",
        "        x = self.dropout(x)\n",
        "        x = self.last_linear(x)\n",
        "        x = nn.Softmax(1)(x)\n",
        "        return x\n",
        "\n",
        "    def forward(self, input):\n",
        "        x = self.features(input)\n",
        "        x = self.logits(x)\n",
        "        return x\n",
        "\n",
        "\n",
        "def nasnetamobile(num_classes=1001, pretrained='imagenet'):\n",
        "    r\"\"\"NASNetALarge model architecture from the\n",
        "    `\"NASNet\" <https://arxiv.org/abs/1707.07012>`_ paper.\n",
        "    \"\"\"\n",
        "    net_settings = settings['nasnetamobile']['no_pretraining']\n",
        "    model = NASNetAMobile(num_classes=num_classes)\n",
        "    model.input_space = net_settings['input_space']\n",
        "    model.input_size = net_settings['input_size']\n",
        "    model.input_range = net_settings['input_range']\n",
        "\n",
        "    model.mean = net_settings['mean']\n",
        "    model.std = net_settings['std']\n",
        "    return model"
      ],
      "execution_count": 0,
      "outputs": []
    },
    {
      "cell_type": "markdown",
      "metadata": {
        "id": "UWqIVYMeT5rH",
        "colab_type": "text"
      },
      "source": [
        "### SqueezeNet"
      ]
    },
    {
      "cell_type": "markdown",
      "metadata": {
        "id": "wVfvhVwNVNZ1",
        "colab_type": "text"
      },
      "source": [
        "Se usa el modelo implementado por PyTorch descartando los parámetros preentrenados."
      ]
    },
    {
      "cell_type": "markdown",
      "metadata": {
        "id": "QmviVZtRT_JD",
        "colab_type": "text"
      },
      "source": [
        "#### Instanciación"
      ]
    },
    {
      "cell_type": "code",
      "metadata": {
        "id": "xesOgwJAT5Bc",
        "colab_type": "code",
        "colab": {}
      },
      "source": [
        "# squeezenet = cnn_learner(data, models.squeezenet1_0, pretrained=False)\n",
        "# squeezenet.unfreeze()\n",
        "# squeezenet.train()  # cambia el comportamiento durante entrenamiento y evaluación por capas como batchnorm"
      ],
      "execution_count": 0,
      "outputs": []
    },
    {
      "cell_type": "markdown",
      "metadata": {
        "id": "rVhLx6diUiRg",
        "colab_type": "text"
      },
      "source": [
        "### ShuffleNet v2"
      ]
    },
    {
      "cell_type": "markdown",
      "metadata": {
        "id": "lSMjbkqYUq_B",
        "colab_type": "text"
      },
      "source": [
        "Se usa el modelo implementado por PyTorch descartando los parámetros preentrenados."
      ]
    },
    {
      "cell_type": "markdown",
      "metadata": {
        "id": "-EgKwfG1VFP6",
        "colab_type": "text"
      },
      "source": [
        "#### Instanciación"
      ]
    },
    {
      "cell_type": "code",
      "metadata": {
        "id": "7U0MvOTBUyK9",
        "colab_type": "code",
        "colab": {}
      },
      "source": [
        "# shufflenet = cnn_learner(data, models.shufflenetv2, pretrained=False)\n",
        "# shufflenet.unfreeze()\n",
        "# shufflenet.train()  # cambia el comportamiento durante entrenamiento y evaluación por capas como batchnorm"
      ],
      "execution_count": 0,
      "outputs": []
    },
    {
      "cell_type": "markdown",
      "metadata": {
        "id": "T28P5H9TYVor",
        "colab_type": "text"
      },
      "source": [
        "### WideResNet"
      ]
    },
    {
      "cell_type": "markdown",
      "metadata": {
        "id": "1GY_W_TAYaEa",
        "colab_type": "text"
      },
      "source": [
        "Se usa la implementación de Fast.ai descartando los parámetros preentrenados.\n",
        "Detalles en: https://docs.fast.ai/vision.models.html"
      ]
    },
    {
      "cell_type": "markdown",
      "metadata": {
        "id": "0xYnZeHxYe8j",
        "colab_type": "text"
      },
      "source": [
        "#### Instanciación"
      ]
    },
    {
      "cell_type": "code",
      "metadata": {
        "id": "UYXUc-7_Yedj",
        "colab_type": "code",
        "colab": {}
      },
      "source": [
        "# wrn = cnn_learner(data, WideResNet(), pretrained=False)  # permite configurar parámetros de la red\n",
        "# wrn = cnn_learner(data, wrn_22, pretrained=False)  # misma implementación pero con parámteros prefijados"
      ],
      "execution_count": 0,
      "outputs": []
    },
    {
      "cell_type": "markdown",
      "metadata": {
        "id": "XyBEJqxnTGjD",
        "colab_type": "text"
      },
      "source": [
        "## XGBoost"
      ]
    },
    {
      "cell_type": "markdown",
      "metadata": {
        "id": "GhdUnbfYTKmS",
        "colab_type": "text"
      },
      "source": [
        "De las predicciones de salida softmax de cada red neuronal se debe seleccionar la de mayor probabilidad (posiblemente un umbral también). Tal predicción de cada red se concatena con las del resto, lo que compone la entrada del clasificador XGBoost. Este hará una nueva clasificación basado en su aprendizaje sobre los aciertos y errores de sus amigos neurológicos.\n",
        "\n",
        "Buen tutorial sobre XGBoost: https://www.datacamp.com/community/tutorials/xgboost-in-python"
      ]
    },
    {
      "cell_type": "markdown",
      "metadata": {
        "id": "nDy70Q5VTX33",
        "colab_type": "text"
      },
      "source": [
        "### Instanciación del clasificador\n",
        "**Ver hiperparámetros. Ojo con la salida de la función objective, chequear.**"
      ]
    },
    {
      "cell_type": "code",
      "metadata": {
        "id": "vNWl_0jrTUUV",
        "colab_type": "code",
        "colab": {}
      },
      "source": [
        "xgb_reg = XGBClassifier(objective ='reg:logistic', colsample_bytree = 0.3, learning_rate = 0.1,\n",
        "                max_depth = 5, alpha = 10, n_estimators = 10)"
      ],
      "execution_count": 0,
      "outputs": []
    },
    {
      "cell_type": "markdown",
      "metadata": {
        "id": "beHo0HT0wgZy",
        "colab_type": "text"
      },
      "source": [
        "# Training\n",
        "A la hora de entrenar, se llama a un objeto Learner (fastai) cuyos argumentos son data (de tipo DataBunch de fastai, que engloba ejemplos y etiquetas), model (el modelo nn.Sequential instanciado con la función anterior) y metrics (autoexplicativo); este objeto se corre a continuación con su método fit(n), donde n es el número de épocas o iteraciones?.\n",
        "\n",
        "Detalle: el tamaño del mini batch no se configura en el Learner o a la hora de fit() sino antes, en la creación del DataBunch.\n",
        "\n",
        "Conviene, supuestamente, entrenar con la técnica 1cycle, que varía a lo largo de las iteraciones la tasa de aprendizaje, los momentos del optimizador y el weight decay. Sirve para lograr tasas mayores y algunos dicen que como regularización. Tenemos que estar prestos entonces para aflojarle un poco al dropout (o L1, L2 o lo que usemos). Si quieren chusmear sobre el tema les recomiendo https://docs.fast.ai/callbacks.one_cycle.html y https://sgugger.github.io/the-1cycle-policy.html .\n",
        "\n",
        "**YEITE: parece que la técnica de augmentation MixUp está implementada dentro de la clase Learner.**"
      ]
    },
    {
      "cell_type": "markdown",
      "metadata": {
        "id": "wGMF-CS2wgZz",
        "colab_type": "text"
      },
      "source": [
        "### Importación de archivos\n",
        "**Implementar: importación simple con fastai, normalización (y guardado de parámetros).**"
      ]
    },
    {
      "cell_type": "code",
      "metadata": {
        "trusted": true,
        "id": "ve74OsozwgZz",
        "colab_type": "code",
        "colab": {}
      },
      "source": [
        "# path = untar_data()  # COMPLETAR\n",
        "# data = ImageDataBunch.from_folder(path)  # fastai.vision import for ImageNet style organization of data\n",
        "\n",
        "# data = (ImageList.from_folder(path)  #Where to find the data? -> in path and its subfolders\n",
        "#         .split_by_folder()           #How to split in train/valid? -> use the folders\n",
        "#         .label_from_folder()         #How to label? -> depending on the folder of the filenames\n",
        "#         .add_test_folder()           #Optionally add a test set (here default name is test)\n",
        "#         .transform(tfms, size=64)    #Data augmentation? -> use tfms with a size of 64\n",
        "#         .databunch())                #Finally? -> use the defaults for conversion to ImageDataBunch\n",
        "\n",
        "# yet another way\n",
        "# multi class classification with no previous train/dev split\n",
        "# path = untar_data()\n",
        "# data = ImageDataBunch.from_csv(planet, folder='train', size=128, suffix='.jpg', label_delim = ' ', ds_tfms=planet_tfms)  # para qué?\n",
        "data_curated = (ImageList.from_csv(path, 'train_curated.csv', folder='train_curated', suffix='.jpg')\n",
        "                #Where to find the data? -> in planet 'train' folder\n",
        "                .split_by_rand_pct()\n",
        "                #How to split in train/valid? -> randomly with the default 20% in valid\n",
        "#                 .label_from_df(label_delim=' ')\n",
        "                #How to label? -> use the second column of the csv file and split the tags by ' '\n",
        "#                 .transform(planet_tfms, size=128)\n",
        "                #Data augmentation? -> use tfms with a size of 128\n",
        "                .databunch(bs=batch_size)\n",
        "                #Finally -> use the defaults for conversion to databunch\n",
        "               )\n",
        "data_noisy = (ImageList.from_csv(path, 'train_noisy.csv', folder='train_noisy', suffix='.jpg')\n",
        "              #Where to find the data? -> in planet 'train' folder\n",
        "              .split_by_rand_pct()\n",
        "              #How to split in train/valid? -> randomly with the default 20% in valid\n",
        "#               .label_from_df(label_delim=' ')\n",
        "              #How to label? -> use the second column of the csv file and split the tags by ' '\n",
        "#               .transform(planet_tfms, size=128)\n",
        "              #Data augmentation? -> use tfms with a size of 128\n",
        "              .databunch(bs=batch_size)\n",
        "              #Finally -> use the defaults for conversion to databunch\n",
        "             ) "
      ],
      "execution_count": 0,
      "outputs": []
    },
    {
      "cell_type": "code",
      "metadata": {
        "trusted": true,
        "id": "C87z28MdwgZ0",
        "colab_type": "code",
        "colab": {}
      },
      "source": [
        "# ACA CODIGO DE NORMALIZACION\n",
        "# mean =\n",
        "# std ="
      ],
      "execution_count": 0,
      "outputs": []
    },
    {
      "cell_type": "markdown",
      "metadata": {
        "id": "AbTNtrjQwgZ1",
        "colab_type": "text"
      },
      "source": [
        "### Instanciación del modelo"
      ]
    },
    {
      "cell_type": "code",
      "metadata": {
        "trusted": true,
        "id": "k-Y8gnjwwgZ2",
        "colab_type": "code",
        "colab": {}
      },
      "source": [
        "# ELEGIR EL MODELO EN LA SIGUIENTE LINEA\n",
        "# model = rdsf_net()\n",
        "learn = Learner(data, model, metrics=[accuracy], bn_wd=False, path=)  # capas BN sin weight decay\n",
        "# INCLUIR MixUp en los argumentos de Learner() en la línea anterior"
      ],
      "execution_count": 0,
      "outputs": []
    },
    {
      "cell_type": "markdown",
      "metadata": {
        "id": "xqtQcStfwgZ3",
        "colab_type": "text"
      },
      "source": [
        "### Entrenamiento sin 1cycle\n",
        "\n",
        "Probaría mejor CON 1cycle, que juega con tasas de aprendizaje más altas y dice llegar a mínimos más mínimos."
      ]
    },
    {
      "cell_type": "code",
      "metadata": {
        "trusted": true,
        "id": "_bA5l0L2wgZ4",
        "colab_type": "code",
        "colab": {}
      },
      "source": [
        "# criterion = nn.CrossEntropyLoss()\n",
        "# optimizer = optim.SGD(net.parameters(), lr=0.001, momentum=0.9)\n",
        "\n",
        "# Sin One Cycle\n",
        "\n",
        "# learn.fit(1)"
      ],
      "execution_count": 0,
      "outputs": []
    },
    {
      "cell_type": "markdown",
      "metadata": {
        "id": "iST3vdX8wgZ5",
        "colab_type": "text"
      },
      "source": [
        "### Entrenamiento con 1cycle\n",
        "\n",
        "1) Buscar la tasa de aprendizaje óptima máxima con learner.lr_find().\n",
        "\n",
        "2) Plotear y elegir con ojímetría una relativamente menor, un orden de magnitud menor más monedas.\n",
        "\n",
        "3) Pasarla como argumento a fit_one_cycle().\n",
        "\n",
        "Para elegir **otros hiperparámetros**, como weight decay o probabilidad de dropout, se recomienda probar distintos valores en lr_finder() y hasta en fit_one_cycle(). Nunca NO probar con lr_finder() porque cambiar algo puede hacer que la misma tasa que antes dé divergente."
      ]
    },
    {
      "cell_type": "markdown",
      "metadata": {
        "id": "8Ah6-UYhwgZ5",
        "colab_type": "text"
      },
      "source": [
        "#### Buscar LR"
      ]
    },
    {
      "cell_type": "code",
      "metadata": {
        "trusted": true,
        "id": "OlknXeamwgZ5",
        "colab_type": "code",
        "colab": {}
      },
      "source": [
        "# Buscar el lr como aquél un poco menor al que hace que se vaya todo a la mierda\n",
        "learn.lr_find(learn:Learner, start_lr:Floats=1e-07, end_lr:Floats=10,\n",
        "                num_it:int=100, stop_div:bool=True, wd:float=None)\n",
        "learn.recorder.plot_lr(show_moms=True)  # elegir visualmente el lr que se le va a pasar a fit_one_cycle() como arg\n",
        "mom_max = 0  # reemplazar acá"
      ],
      "execution_count": 0,
      "outputs": []
    },
    {
      "cell_type": "markdown",
      "metadata": {
        "id": "XF88ov6mwgZ6",
        "colab_type": "text"
      },
      "source": [
        "#### Entrenamiento"
      ]
    },
    {
      "cell_type": "code",
      "metadata": {
        "trusted": true,
        "id": "WPX7gqeRwgZ7",
        "colab_type": "code",
        "colab": {}
      },
      "source": [
        "# Equivalente simple a One Cycle\n",
        "learn.fit_one_cycle(1, max_lr=mom_max)\n",
        "# learn.recorder.plot_lr(show_moms=True)  # chusmear\n",
        "# learn.recorder.plot_metrics()  # chusmear"
      ],
      "execution_count": 0,
      "outputs": []
    },
    {
      "cell_type": "markdown",
      "metadata": {
        "id": "pujC1IFWwgZ8",
        "colab_type": "text"
      },
      "source": [
        "### Guardado/importación"
      ]
    },
    {
      "cell_type": "code",
      "metadata": {
        "trusted": true,
        "colab_type": "code",
        "id": "xo1UAj5lXDn6",
        "colab": {}
      },
      "source": [
        "# learn.save()\n",
        "# learn = load_learner()\n",
        "# learn.export()"
      ],
      "execution_count": 0,
      "outputs": []
    },
    {
      "cell_type": "markdown",
      "metadata": {
        "id": "bP2lcCNMW1VM",
        "colab_type": "text"
      },
      "source": [
        "## Entrenamiento del XGBoost"
      ]
    },
    {
      "cell_type": "markdown",
      "metadata": {
        "id": "DCWsNe_UTZ1f",
        "colab_type": "text"
      },
      "source": [
        "### Train/test data split para el XGBoost"
      ]
    },
    {
      "cell_type": "markdown",
      "metadata": {
        "id": "mo8ZKmKaTnrz",
        "colab_type": "text"
      },
      "source": [
        "Crear un nuevo dataset en el que la X_train es la concatenación de las predicciones de las redes neuronales **(en formato categórico numérico o one hot encoding?)** e y_train las ground truths todavía.\n",
        "\n",
        "**Transformar el nuevo dataset en DMatrix**"
      ]
    },
    {
      "cell_type": "code",
      "metadata": {
        "id": "kYkXaPP4TMck",
        "colab_type": "code",
        "colab": {}
      },
      "source": [
        "X_train, X_test, y_train, y_test = train_test_split(X, y, test_size=0.2, random_state=123)"
      ],
      "execution_count": 0,
      "outputs": []
    },
    {
      "cell_type": "markdown",
      "metadata": {
        "id": "IlksuhxRW74I",
        "colab_type": "text"
      },
      "source": [
        "### Entrenamiento"
      ]
    },
    {
      "cell_type": "code",
      "metadata": {
        "id": "geLZdkFVTfS-",
        "colab_type": "code",
        "colab": {}
      },
      "source": [
        "xgb_reg.fit(X_train, y_train)"
      ],
      "execution_count": 0,
      "outputs": []
    },
    {
      "cell_type": "markdown",
      "metadata": {
        "id": "sfchtwXBa3GC",
        "colab_type": "text"
      },
      "source": [
        "### Ploteo del árbol"
      ]
    },
    {
      "cell_type": "code",
      "metadata": {
        "id": "Yl0WIWcPa8BB",
        "colab_type": "code",
        "colab": {}
      },
      "source": [
        "xgb.plot_importance(xgb_reg)\n",
        "xgb.plot_tree(xgb_reg)\n",
        "xgb.to_graphviz(xgb_reg)"
      ],
      "execution_count": 0,
      "outputs": []
    },
    {
      "cell_type": "markdown",
      "metadata": {
        "id": "s9KlvGJywgZ-",
        "colab_type": "text"
      },
      "source": [
        "# Prediction"
      ]
    },
    {
      "cell_type": "markdown",
      "metadata": {
        "id": "Io0Pl9h4XOHQ",
        "colab_type": "text"
      },
      "source": [
        "La etapa de predicción seguramente deba tener como **entrada no el espectrograma sino el archivo crudo** (esto podría complicar los tiempos). Entonces el flujo debería ser tal cual el de los datos de entrenamiento automatizado:\n",
        "\n",
        "    audio->transformaciones en paralelo->eliminación de silencio->predicción de redes neuronales->concatenación->predicción de xgboost"
      ]
    },
    {
      "cell_type": "code",
      "metadata": {
        "trusted": true,
        "id": "oUWyZcgkwgZ-",
        "colab_type": "code",
        "colab": {}
      },
      "source": [
        "# Predicción (solo sirve para individual?)\n",
        "# learn.predict(img)\n",
        "\n",
        "# Predicción en un test set, pasando un ItemList como argumento\n",
        "path_to_folder = \"\"\n",
        "learn = load_learner(mnist, test=ImageList.from_folder(path_to_folder))"
      ],
      "execution_count": 0,
      "outputs": []
    }
  ]
}